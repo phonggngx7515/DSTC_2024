{
  "cells": [
    {
      "cell_type": "code",
      "execution_count": 1,
      "metadata": {
        "id": "PTrh_foobK2T"
      },
      "outputs": [],
      "source": [
        "import numpy as np\n",
        "import pandas as pd\n",
        "import matplotlib.pyplot as plt\n",
        "import seaborn as sns"
      ]
    },
    {
      "cell_type": "code",
      "execution_count": 2,
      "metadata": {
        "id": "CIla8_GgbmPu",
        "colab": {
          "base_uri": "https://localhost:8080/"
        },
        "outputId": "6858bd28-800c-4357-a393-a792fbc92107"
      },
      "outputs": [
        {
          "output_type": "stream",
          "name": "stdout",
          "text": [
            "Drive already mounted at /content/drive; to attempt to forcibly remount, call drive.mount(\"/content/drive\", force_remount=True).\n"
          ]
        }
      ],
      "source": [
        "from google.colab import drive\n",
        "drive.mount('/content/drive')"
      ]
    },
    {
      "cell_type": "code",
      "execution_count": 3,
      "metadata": {
        "id": "U5-LLV4ZbK2W"
      },
      "outputs": [],
      "source": [
        "file_path = \"/content/drive/My Drive/[FTU_DSTC] Vô Gia Cư/ROUND 02/01_dataset.csv\"\n",
        "source = pd.read_csv(file_path)"
      ]
    },
    {
      "cell_type": "code",
      "execution_count": 4,
      "metadata": {
        "id": "tmownnTZuN4r"
      },
      "outputs": [],
      "source": [
        "df = source.copy()"
      ]
    },
    {
      "cell_type": "code",
      "execution_count": 5,
      "metadata": {
        "id": "idbXtSeSbK2W",
        "colab": {
          "base_uri": "https://localhost:8080/"
        },
        "outputId": "6ad66ef8-26c3-47a8-93e6-01aa40225786"
      },
      "outputs": [
        {
          "output_type": "stream",
          "name": "stdout",
          "text": [
            "   customer_id  label  SHORT_TERM_COUNT  MID_TERM_COUNT  LONG_TERM_COUNT  \\\n",
            "0         1639      1               1.0             1.0              1.0   \n",
            "1        23717      0              10.0             1.0              NaN   \n",
            "2        19474      0               7.0             7.0              NaN   \n",
            "3        15505      0               7.0             1.0              1.0   \n",
            "4         1538      1               NaN             NaN              1.0   \n",
            "\n",
            "   SHORT_TERM_COUNT_BANK  MID_TERM_COUNT_BANK  LONG_TERM_COUNT_BANK  \\\n",
            "0                    1.0                  1.0                   1.0   \n",
            "1                    7.0                  1.0                   1.0   \n",
            "2                    7.0                  NaN                   1.0   \n",
            "3                    NaN                  1.0                   NaN   \n",
            "4                    1.0                  1.0                   1.0   \n",
            "\n",
            "   SHORT_TERM_COUNT_NON_BANK  MID_TERM_COUNT_NON_BANK  ...  \\\n",
            "0                        1.0                      1.0  ...   \n",
            "1                        4.0                      NaN  ...   \n",
            "2                        1.0                      4.0  ...   \n",
            "3                        7.0                      1.0  ...   \n",
            "4                        1.0                      4.0  ...   \n",
            "\n",
            "   ENQUIRIES_FROM_BANK_6M_9M  ENQUIRIES_FROM_BANK_9M_12M  \\\n",
            "0                        NaN                    2.000000   \n",
            "1                   2.000000                    7.000000   \n",
            "2                   7.000000                    5.571429   \n",
            "3                   6.090909                    7.000000   \n",
            "4                   2.000000                    2.000000   \n",
            "\n",
            "   ENQUIRIES_FROM_BANK_6M_12M  ENQUIRIES_FROM_BANK_3M_12M  \\\n",
            "0                    2.000000                    2.000000   \n",
            "1                    2.000000                    2.000000   \n",
            "2                    5.571429                    5.571429   \n",
            "3                         NaN                         NaN   \n",
            "4                    2.000000                    2.000000   \n",
            "\n",
            "   ENQUIRIES_FROM_NON_BANK_3M_6M  ENQUIRIES_FROM_NON_BANK_6M_9M  \\\n",
            "0                       7.000000                       3.666667   \n",
            "1                       7.000000                       7.000000   \n",
            "2                       7.000000                       7.000000   \n",
            "3                       4.500000                       5.333333   \n",
            "4                       3.666667                       7.000000   \n",
            "\n",
            "   ENQUIRIES_FROM_NON_BANK_9M_12M  ENQUIRIES_FROM_NON_BANK_6M_12M  \\\n",
            "0                             7.0                        3.666667   \n",
            "1                             7.0                        7.000000   \n",
            "2                             7.0                        7.000000   \n",
            "3                             7.0                        5.333333   \n",
            "4                             7.0                        7.000000   \n",
            "\n",
            "   ENQUIRIES_FROM_NON_BANK_3M_12M  OUTSTANDING_BAL_ALL_CURRENT  \n",
            "0                        3.666667                    1000000.0  \n",
            "1                        7.000000                          NaN  \n",
            "2                        7.000000                    1000620.0  \n",
            "3                        3.666667                    1000170.0  \n",
            "4                        3.666667                    1000270.0  \n",
            "\n",
            "[5 rows x 124 columns]\n"
          ]
        }
      ],
      "source": [
        "print(df.head())"
      ]
    },
    {
      "cell_type": "code",
      "execution_count": 6,
      "metadata": {
        "id": "_i3bff6DbK2X",
        "colab": {
          "base_uri": "https://localhost:8080/"
        },
        "outputId": "4084d3fa-bbf8-49fa-bd27-123929a2bdb0"
      },
      "outputs": [
        {
          "output_type": "stream",
          "name": "stdout",
          "text": [
            "<class 'pandas.core.frame.DataFrame'>\n",
            "RangeIndex: 20000 entries, 0 to 19999\n",
            "Columns: 124 entries, customer_id to OUTSTANDING_BAL_ALL_CURRENT\n",
            "dtypes: float64(122), int64(2)\n",
            "memory usage: 18.9 MB\n",
            "None\n"
          ]
        }
      ],
      "source": [
        "print(df.info())"
      ]
    },
    {
      "cell_type": "code",
      "execution_count": 7,
      "metadata": {
        "id": "zvUvqZ3TbK2X",
        "colab": {
          "base_uri": "https://localhost:8080/"
        },
        "outputId": "dd61cdc0-d1aa-4fdb-91c9-42ae1e12f717"
      },
      "outputs": [
        {
          "output_type": "stream",
          "name": "stdout",
          "text": [
            "        customer_id         label  SHORT_TERM_COUNT  MID_TERM_COUNT  \\\n",
            "count  20000.000000  20000.000000      18000.000000    18000.000000   \n",
            "mean   12805.812050      0.182200          6.040667        3.316833   \n",
            "std     7405.225854      0.386019          3.620554        3.147751   \n",
            "min        0.000000      0.000000          1.000000        1.000000   \n",
            "25%     6374.750000      0.000000          4.000000        1.000000   \n",
            "50%    12840.500000      0.000000          7.000000        1.000000   \n",
            "75%    19206.250000      0.000000          7.000000        4.000000   \n",
            "max    25659.000000      1.000000         25.000000       25.000000   \n",
            "\n",
            "       LONG_TERM_COUNT  SHORT_TERM_COUNT_BANK  MID_TERM_COUNT_BANK  \\\n",
            "count     18000.000000           18000.000000         18000.000000   \n",
            "mean          1.063333               3.177000             1.610500   \n",
            "std           0.446094               2.211548             1.547231   \n",
            "min           1.000000               1.000000             1.000000   \n",
            "25%           1.000000               1.000000             1.000000   \n",
            "50%           1.000000               4.000000             1.000000   \n",
            "75%           1.000000               4.000000             1.000000   \n",
            "max           7.000000              13.000000            22.000000   \n",
            "\n",
            "       LONG_TERM_COUNT_BANK  SHORT_TERM_COUNT_NON_BANK  \\\n",
            "count          18000.000000               18000.000000   \n",
            "mean               1.061333                   3.850500   \n",
            "std                0.437320                   2.550394   \n",
            "min                1.000000                   1.000000   \n",
            "25%                1.000000                   1.000000   \n",
            "50%                1.000000                   4.000000   \n",
            "75%                1.000000                   4.000000   \n",
            "max                7.000000                  16.000000   \n",
            "\n",
            "       MID_TERM_COUNT_NON_BANK  ...  ENQUIRIES_FROM_BANK_6M_9M  \\\n",
            "count             18000.000000  ...               18000.000000   \n",
            "mean                  2.730833  ...                   1.524688   \n",
            "std                   2.519339  ...                   4.182101   \n",
            "min                   1.000000  ...                  -3.000000   \n",
            "25%                   1.000000  ...                  -3.000000   \n",
            "50%                   1.000000  ...                   2.000000   \n",
            "75%                   4.000000  ...                   7.000000   \n",
            "max                  19.000000  ...                   7.000000   \n",
            "\n",
            "       ENQUIRIES_FROM_BANK_9M_12M  ENQUIRIES_FROM_BANK_6M_12M  \\\n",
            "count                18000.000000                18000.000000   \n",
            "mean                     1.956620                    1.531301   \n",
            "std                      4.304385                    3.967109   \n",
            "min                     -3.000000                   -3.000000   \n",
            "25%                     -3.000000                   -3.000000   \n",
            "50%                      2.000000                    2.000000   \n",
            "75%                      7.000000                    5.333333   \n",
            "max                      7.000000                    7.000000   \n",
            "\n",
            "       ENQUIRIES_FROM_BANK_3M_12M  ENQUIRIES_FROM_NON_BANK_3M_6M  \\\n",
            "count                18000.000000                   18000.000000   \n",
            "mean                     1.013238                       6.458641   \n",
            "std                      3.560061                       1.147119   \n",
            "min                     -3.000000                       2.000000   \n",
            "25%                     -3.000000                       7.000000   \n",
            "50%                      2.000000                       7.000000   \n",
            "75%                      3.000000                       7.000000   \n",
            "max                      7.000000                       7.000000   \n",
            "\n",
            "       ENQUIRIES_FROM_NON_BANK_6M_9M  ENQUIRIES_FROM_NON_BANK_9M_12M  \\\n",
            "count                   18000.000000                    18000.000000   \n",
            "mean                        6.591671                        6.691829   \n",
            "std                         1.022613                        0.914260   \n",
            "min                         2.000000                        2.000000   \n",
            "25%                         7.000000                        7.000000   \n",
            "50%                         7.000000                        7.000000   \n",
            "75%                         7.000000                        7.000000   \n",
            "max                         7.000000                        7.000000   \n",
            "\n",
            "       ENQUIRIES_FROM_NON_BANK_6M_12M  ENQUIRIES_FROM_NON_BANK_3M_12M  \\\n",
            "count                    18000.000000                    18000.000000   \n",
            "mean                         6.402545                        6.006104   \n",
            "std                          1.177294                        1.431080   \n",
            "min                          2.000000                        2.000000   \n",
            "25%                          7.000000                        4.500000   \n",
            "50%                          7.000000                        7.000000   \n",
            "75%                          7.000000                        7.000000   \n",
            "max                          7.000000                        7.000000   \n",
            "\n",
            "       OUTSTANDING_BAL_ALL_CURRENT  \n",
            "count                 1.800000e+04  \n",
            "mean                  1.000943e+06  \n",
            "std                   4.007350e+03  \n",
            "min                   1.000000e+06  \n",
            "25%                   1.000100e+06  \n",
            "50%                   1.000290e+06  \n",
            "75%                   1.000770e+06  \n",
            "max                   1.169190e+06  \n",
            "\n",
            "[8 rows x 124 columns]\n"
          ]
        }
      ],
      "source": [
        "print(df.describe())"
      ]
    },
    {
      "cell_type": "code",
      "execution_count": 8,
      "metadata": {
        "id": "DZ-nNEF0bK2Y",
        "colab": {
          "base_uri": "https://localhost:8080/"
        },
        "outputId": "a3155269-b601-4096-92b9-21b771984773"
      },
      "outputs": [
        {
          "output_type": "stream",
          "name": "stdout",
          "text": [
            "customer_id                          0\n",
            "label                                0\n",
            "SHORT_TERM_COUNT                  2000\n",
            "MID_TERM_COUNT                    2000\n",
            "LONG_TERM_COUNT                   2000\n",
            "                                  ... \n",
            "ENQUIRIES_FROM_NON_BANK_6M_9M     2000\n",
            "ENQUIRIES_FROM_NON_BANK_9M_12M    2000\n",
            "ENQUIRIES_FROM_NON_BANK_6M_12M    2000\n",
            "ENQUIRIES_FROM_NON_BANK_3M_12M    2000\n",
            "OUTSTANDING_BAL_ALL_CURRENT       2000\n",
            "Length: 124, dtype: int64\n"
          ]
        }
      ],
      "source": [
        "print(df.isnull().sum())"
      ]
    },
    {
      "cell_type": "code",
      "execution_count": 9,
      "metadata": {
        "id": "ITsg8Wx7bK2Y"
      },
      "outputs": [],
      "source": [
        "def fill_Bank_Non_bank(x):\n",
        "    global df\n",
        "    df[x] = df[x].fillna(df[x + \"_BANK\"] + df[x + \"_NON_BANK\"] - 1)\n",
        "    df[x + \"_BANK\"] = df[x + \"_BANK\"].fillna(df[x] + 1 - df[x + \"_NON_BANK\"])\n",
        "    df[x + \"_NON_BANK\"] = df[x + \"_NON_BANK\"].fillna(df[x] + 1 - df[x + \"_BANK\"])\n",
        "    return\n",
        "\n",
        "Bank_Non_bank_List = ['LONG_TERM_COUNT', 'SHORT_TERM_COUNT', 'NUMBER_OF_LOANS', 'NUMBER_OF_CREDIT_CARDS', 'NUMBER_OF_RELATIONSHIP', 'MID_TERM_COUNT']\n",
        "\n",
        "def Solve1():\n",
        "    for name in Bank_Non_bank_List:\n",
        "        fill_Bank_Non_bank(name)\n",
        "    return\n",
        "\n",
        "# print(df)"
      ]
    },
    {
      "cell_type": "code",
      "execution_count": 10,
      "metadata": {
        "id": "JS4JRObAbK2Y"
      },
      "outputs": [],
      "source": [
        "def fill_Different_features(x, y, z):\n",
        "    global df\n",
        "    df[x] = df[x].fillna(df[y] + df[z] - 1)\n",
        "    df[y] = df[y].fillna(df[x] + 1 - df[z])\n",
        "    df[z] = df[z].fillna(df[x] + 1 - df[y])\n",
        "    return\n",
        "\n",
        "def Solve2():\n",
        "    fill_Different_features('NUMBER_OF_RELATIONSHIP', 'NUMBER_OF_LOANS', 'NUMBER_OF_CREDIT_CARDS')\n",
        "    fill_Different_features('NUMBER_OF_RELATIONSHIP_BANK', 'NUMBER_OF_LOANS_BANK', 'NUMBER_OF_CREDIT_CARDS_BANK')\n",
        "    fill_Different_features('NUMBER_OF_RELATIONSHIP_NON_BANK', 'NUMBER_OF_LOANS_NON_BANK', 'NUMBER_OF_CREDIT_CARDS_NON_BANK')\n",
        "    return\n",
        "\n",
        "# print(df)"
      ]
    },
    {
      "cell_type": "code",
      "execution_count": 11,
      "metadata": {
        "id": "-FyFWGCobK2Z"
      },
      "outputs": [],
      "source": [
        "def fill_Different_features_2(x, y, z, t):\n",
        "    global df\n",
        "    df[t] = df[t].fillna(df[x] + df[y] + df[z] - 2)\n",
        "    df[x] = df[x].fillna(df[t] + 2 - (df[y] + df[z]))\n",
        "    df[y] = df[y].fillna(df[t] + 2 - (df[x] + df[z]))\n",
        "    df[z] = df[z].fillna(df[t] + 2 - (df[x] + df[y]))\n",
        "    return\n",
        "\n",
        "\n",
        "def Solve3():\n",
        "    fill_Different_features_2('SHORT_TERM_COUNT', 'MID_TERM_COUNT', 'LONG_TERM_COUNT', 'NUMBER_OF_LOANS')\n",
        "    fill_Different_features_2('SHORT_TERM_COUNT_BANK', 'MID_TERM_COUNT_BANK', 'LONG_TERM_COUNT_BANK', 'NUMBER_OF_LOANS_BANK')\n",
        "    fill_Different_features_2('SHORT_TERM_COUNT_NON_BANK', 'MID_TERM_COUNT_NON_BANK', 'LONG_TERM_COUNT_NON_BANK', 'NUMBER_OF_LOANS_NON_BANK')\n",
        "    return"
      ]
    },
    {
      "cell_type": "code",
      "execution_count": 12,
      "metadata": {
        "id": "lj-fUPz9bK2Z"
      },
      "outputs": [],
      "source": [
        "Solve1()\n",
        "Solve2()\n",
        "Solve1()\n",
        "Solve3()\n",
        "Solve1()\n",
        "Solve2()\n",
        "Solve1()\n",
        "Solve3()\n",
        "Solve1()"
      ]
    },
    {
      "cell_type": "code",
      "execution_count": 13,
      "metadata": {
        "id": "hp780__EbK2a",
        "colab": {
          "base_uri": "https://localhost:8080/"
        },
        "outputId": "a18d5968-60d7-45f3-951b-1ecc759a02e4"
      },
      "outputs": [
        {
          "output_type": "stream",
          "name": "stdout",
          "text": [
            "LONG_TERM_COUNT : 7\n",
            "LONG_TERM_COUNT_BANK : 8\n",
            "LONG_TERM_COUNT_NON_BANK : 7\n",
            "SHORT_TERM_COUNT : 8\n",
            "SHORT_TERM_COUNT_BANK : 8\n",
            "SHORT_TERM_COUNT_NON_BANK : 8\n",
            "NUMBER_OF_LOANS : 0\n",
            "NUMBER_OF_LOANS_BANK : 0\n",
            "NUMBER_OF_LOANS_NON_BANK : 0\n",
            "NUMBER_OF_CREDIT_CARDS : 3\n",
            "NUMBER_OF_CREDIT_CARDS_BANK : 3\n",
            "NUMBER_OF_CREDIT_CARDS_NON_BANK : 4\n",
            "NUMBER_OF_RELATIONSHIP : 3\n",
            "NUMBER_OF_RELATIONSHIP_BANK : 3\n",
            "NUMBER_OF_RELATIONSHIP_NON_BANK : 4\n",
            "MID_TERM_COUNT : 7\n",
            "MID_TERM_COUNT_BANK : 8\n",
            "MID_TERM_COUNT_NON_BANK : 3\n"
          ]
        }
      ],
      "source": [
        "for name in Bank_Non_bank_List:\n",
        "    print(name, ':', df[name].isnull().sum())\n",
        "    print(name + \"_BANK\", ':', df[name + \"_BANK\"].isnull().sum())\n",
        "    print(name + \"_NON_BANK\", ':', df[name + \"_NON_BANK\"].isnull().sum())"
      ]
    },
    {
      "cell_type": "code",
      "execution_count": 14,
      "metadata": {
        "id": "afRa59MdbK2b"
      },
      "outputs": [],
      "source": [
        "def NaN_NullCheck(row):\n",
        "    for name in Bank_Non_bank_List:\n",
        "        if pd.isnull(row[name]): return True\n",
        "    return False\n",
        "\n",
        "temp = df[df.apply(NaN_NullCheck, axis=1)]\n",
        "\n",
        "df = df[~df.apply(NaN_NullCheck, axis=1)]"
      ]
    },
    {
      "cell_type": "code",
      "execution_count": 15,
      "metadata": {
        "collapsed": true,
        "id": "R27CRnqQdCJN",
        "colab": {
          "base_uri": "https://localhost:8080/"
        },
        "outputId": "63dc824c-109f-4526-cc41-6b4a578c4a6e"
      },
      "outputs": [
        {
          "output_type": "stream",
          "name": "stderr",
          "text": [
            "<ipython-input-15-6d35ca0b2c89>:2: SettingWithCopyWarning: \n",
            "A value is trying to be set on a copy of a slice from a DataFrame.\n",
            "Try using .loc[row_indexer,col_indexer] = value instead\n",
            "\n",
            "See the caveats in the documentation: https://pandas.pydata.org/pandas-docs/stable/user_guide/indexing.html#returning-a-view-versus-a-copy\n",
            "  df['NUM_NEW_LOAN_TAKEN_12M'] = df['NUM_NEW_LOAN_TAKEN_12M'].fillna(df['NUM_NEW_LOAN_TAKEN_BANK_12M'] + df['NUM_NEW_LOAN_TAKEN_NON_BANK_12M'])\n",
            "<ipython-input-15-6d35ca0b2c89>:3: SettingWithCopyWarning: \n",
            "A value is trying to be set on a copy of a slice from a DataFrame.\n",
            "Try using .loc[row_indexer,col_indexer] = value instead\n",
            "\n",
            "See the caveats in the documentation: https://pandas.pydata.org/pandas-docs/stable/user_guide/indexing.html#returning-a-view-versus-a-copy\n",
            "  df['NUM_NEW_LOAN_TAKEN_BANK_12M'] = df['NUM_NEW_LOAN_TAKEN_BANK_12M'].fillna(df['NUM_NEW_LOAN_TAKEN_12M'] - df['NUM_NEW_LOAN_TAKEN_NON_BANK_12M'])\n",
            "<ipython-input-15-6d35ca0b2c89>:4: SettingWithCopyWarning: \n",
            "A value is trying to be set on a copy of a slice from a DataFrame.\n",
            "Try using .loc[row_indexer,col_indexer] = value instead\n",
            "\n",
            "See the caveats in the documentation: https://pandas.pydata.org/pandas-docs/stable/user_guide/indexing.html#returning-a-view-versus-a-copy\n",
            "  df['NUM_NEW_LOAN_TAKEN_NON_BANK_12M'] = df['NUM_NEW_LOAN_TAKEN_NON_BANK_12M'].fillna(df['NUM_NEW_LOAN_TAKEN_12M'] - df['NUM_NEW_LOAN_TAKEN_BANK_12M'])\n",
            "<ipython-input-15-6d35ca0b2c89>:7: SettingWithCopyWarning: \n",
            "A value is trying to be set on a copy of a slice from a DataFrame.\n",
            "Try using .loc[row_indexer,col_indexer] = value instead\n",
            "\n",
            "See the caveats in the documentation: https://pandas.pydata.org/pandas-docs/stable/user_guide/indexing.html#returning-a-view-versus-a-copy\n",
            "  df['NUM_NEW_LOAN_TAKEN_9M'] = df['NUM_NEW_LOAN_TAKEN_9M'].fillna(df['NUM_NEW_LOAN_TAKEN_BANK_9M'] + df['NUM_NEW_LOAN_TAKEN_NON_BANK_9M'])\n",
            "<ipython-input-15-6d35ca0b2c89>:8: SettingWithCopyWarning: \n",
            "A value is trying to be set on a copy of a slice from a DataFrame.\n",
            "Try using .loc[row_indexer,col_indexer] = value instead\n",
            "\n",
            "See the caveats in the documentation: https://pandas.pydata.org/pandas-docs/stable/user_guide/indexing.html#returning-a-view-versus-a-copy\n",
            "  df['NUM_NEW_LOAN_TAKEN_BANK_9M'] = df['NUM_NEW_LOAN_TAKEN_BANK_9M'].fillna(df['NUM_NEW_LOAN_TAKEN_9M'] - df['NUM_NEW_LOAN_TAKEN_NON_BANK_9M'])\n",
            "<ipython-input-15-6d35ca0b2c89>:9: SettingWithCopyWarning: \n",
            "A value is trying to be set on a copy of a slice from a DataFrame.\n",
            "Try using .loc[row_indexer,col_indexer] = value instead\n",
            "\n",
            "See the caveats in the documentation: https://pandas.pydata.org/pandas-docs/stable/user_guide/indexing.html#returning-a-view-versus-a-copy\n",
            "  df['NUM_NEW_LOAN_TAKEN_NON_BANK_9M'] = df['NUM_NEW_LOAN_TAKEN_NON_BANK_9M'].fillna(df['NUM_NEW_LOAN_TAKEN_9M'] - df['NUM_NEW_LOAN_TAKEN_BANK_9M'])\n",
            "<ipython-input-15-6d35ca0b2c89>:12: SettingWithCopyWarning: \n",
            "A value is trying to be set on a copy of a slice from a DataFrame.\n",
            "Try using .loc[row_indexer,col_indexer] = value instead\n",
            "\n",
            "See the caveats in the documentation: https://pandas.pydata.org/pandas-docs/stable/user_guide/indexing.html#returning-a-view-versus-a-copy\n",
            "  df['NUM_NEW_LOAN_TAKEN_6M'] = df['NUM_NEW_LOAN_TAKEN_6M'].fillna(df['NUM_NEW_LOAN_TAKEN_BANK_6M'] + df['NUM_NEW_LOAN_TAKEN_NON_BANK_6M'])\n",
            "<ipython-input-15-6d35ca0b2c89>:13: SettingWithCopyWarning: \n",
            "A value is trying to be set on a copy of a slice from a DataFrame.\n",
            "Try using .loc[row_indexer,col_indexer] = value instead\n",
            "\n",
            "See the caveats in the documentation: https://pandas.pydata.org/pandas-docs/stable/user_guide/indexing.html#returning-a-view-versus-a-copy\n",
            "  df['NUM_NEW_LOAN_TAKEN_BANK_6M'] = df['NUM_NEW_LOAN_TAKEN_BANK_6M'].fillna(df['NUM_NEW_LOAN_TAKEN_6M'] - df['NUM_NEW_LOAN_TAKEN_NON_BANK_6M'])\n",
            "<ipython-input-15-6d35ca0b2c89>:14: SettingWithCopyWarning: \n",
            "A value is trying to be set on a copy of a slice from a DataFrame.\n",
            "Try using .loc[row_indexer,col_indexer] = value instead\n",
            "\n",
            "See the caveats in the documentation: https://pandas.pydata.org/pandas-docs/stable/user_guide/indexing.html#returning-a-view-versus-a-copy\n",
            "  df['NUM_NEW_LOAN_TAKEN_NON_BANK_6M'] = df['NUM_NEW_LOAN_TAKEN_NON_BANK_6M'].fillna(df['NUM_NEW_LOAN_TAKEN_6M'] - df['NUM_NEW_LOAN_TAKEN_BANK_6M'])\n",
            "<ipython-input-15-6d35ca0b2c89>:17: SettingWithCopyWarning: \n",
            "A value is trying to be set on a copy of a slice from a DataFrame.\n",
            "Try using .loc[row_indexer,col_indexer] = value instead\n",
            "\n",
            "See the caveats in the documentation: https://pandas.pydata.org/pandas-docs/stable/user_guide/indexing.html#returning-a-view-versus-a-copy\n",
            "  df['NUM_NEW_LOAN_TAKEN_3M'] = df['NUM_NEW_LOAN_TAKEN_3M'].fillna(df['NUM_NEW_LOAN_TAKEN_BANK_3M'] + df['NUM_NEW_LOAN_TAKEN_NON_BANK_3M'])\n",
            "<ipython-input-15-6d35ca0b2c89>:18: SettingWithCopyWarning: \n",
            "A value is trying to be set on a copy of a slice from a DataFrame.\n",
            "Try using .loc[row_indexer,col_indexer] = value instead\n",
            "\n",
            "See the caveats in the documentation: https://pandas.pydata.org/pandas-docs/stable/user_guide/indexing.html#returning-a-view-versus-a-copy\n",
            "  df['NUM_NEW_LOAN_TAKEN_BANK_3M'] = df['NUM_NEW_LOAN_TAKEN_BANK_3M'].fillna(df['NUM_NEW_LOAN_TAKEN_3M'] - df['NUM_NEW_LOAN_TAKEN_NON_BANK_3M'])\n",
            "<ipython-input-15-6d35ca0b2c89>:19: SettingWithCopyWarning: \n",
            "A value is trying to be set on a copy of a slice from a DataFrame.\n",
            "Try using .loc[row_indexer,col_indexer] = value instead\n",
            "\n",
            "See the caveats in the documentation: https://pandas.pydata.org/pandas-docs/stable/user_guide/indexing.html#returning-a-view-versus-a-copy\n",
            "  df['NUM_NEW_LOAN_TAKEN_NON_BANK_3M'] = df['NUM_NEW_LOAN_TAKEN_NON_BANK_3M'].fillna(df['NUM_NEW_LOAN_TAKEN_3M'] - df['NUM_NEW_LOAN_TAKEN_BANK_3M'])\n"
          ]
        }
      ],
      "source": [
        "# Chỉnh sửa giá trị NaN cho cột 12M\n",
        "df['NUM_NEW_LOAN_TAKEN_12M'] = df['NUM_NEW_LOAN_TAKEN_12M'].fillna(df['NUM_NEW_LOAN_TAKEN_BANK_12M'] + df['NUM_NEW_LOAN_TAKEN_NON_BANK_12M'])\n",
        "df['NUM_NEW_LOAN_TAKEN_BANK_12M'] = df['NUM_NEW_LOAN_TAKEN_BANK_12M'].fillna(df['NUM_NEW_LOAN_TAKEN_12M'] - df['NUM_NEW_LOAN_TAKEN_NON_BANK_12M'])\n",
        "df['NUM_NEW_LOAN_TAKEN_NON_BANK_12M'] = df['NUM_NEW_LOAN_TAKEN_NON_BANK_12M'].fillna(df['NUM_NEW_LOAN_TAKEN_12M'] - df['NUM_NEW_LOAN_TAKEN_BANK_12M'])\n",
        "\n",
        "# Chỉnh sửa giá trị NaN cho cột 9M\n",
        "df['NUM_NEW_LOAN_TAKEN_9M'] = df['NUM_NEW_LOAN_TAKEN_9M'].fillna(df['NUM_NEW_LOAN_TAKEN_BANK_9M'] + df['NUM_NEW_LOAN_TAKEN_NON_BANK_9M'])\n",
        "df['NUM_NEW_LOAN_TAKEN_BANK_9M'] = df['NUM_NEW_LOAN_TAKEN_BANK_9M'].fillna(df['NUM_NEW_LOAN_TAKEN_9M'] - df['NUM_NEW_LOAN_TAKEN_NON_BANK_9M'])\n",
        "df['NUM_NEW_LOAN_TAKEN_NON_BANK_9M'] = df['NUM_NEW_LOAN_TAKEN_NON_BANK_9M'].fillna(df['NUM_NEW_LOAN_TAKEN_9M'] - df['NUM_NEW_LOAN_TAKEN_BANK_9M'])\n",
        "\n",
        "# Chỉnh sửa giá trị NaN cho cột 6M\n",
        "df['NUM_NEW_LOAN_TAKEN_6M'] = df['NUM_NEW_LOAN_TAKEN_6M'].fillna(df['NUM_NEW_LOAN_TAKEN_BANK_6M'] + df['NUM_NEW_LOAN_TAKEN_NON_BANK_6M'])\n",
        "df['NUM_NEW_LOAN_TAKEN_BANK_6M'] = df['NUM_NEW_LOAN_TAKEN_BANK_6M'].fillna(df['NUM_NEW_LOAN_TAKEN_6M'] - df['NUM_NEW_LOAN_TAKEN_NON_BANK_6M'])\n",
        "df['NUM_NEW_LOAN_TAKEN_NON_BANK_6M'] = df['NUM_NEW_LOAN_TAKEN_NON_BANK_6M'].fillna(df['NUM_NEW_LOAN_TAKEN_6M'] - df['NUM_NEW_LOAN_TAKEN_BANK_6M'])\n",
        "\n",
        "# Chỉnh sửa giá trị NaN cho cột 3M\n",
        "df['NUM_NEW_LOAN_TAKEN_3M'] = df['NUM_NEW_LOAN_TAKEN_3M'].fillna(df['NUM_NEW_LOAN_TAKEN_BANK_3M'] + df['NUM_NEW_LOAN_TAKEN_NON_BANK_3M'])\n",
        "df['NUM_NEW_LOAN_TAKEN_BANK_3M'] = df['NUM_NEW_LOAN_TAKEN_BANK_3M'].fillna(df['NUM_NEW_LOAN_TAKEN_3M'] - df['NUM_NEW_LOAN_TAKEN_NON_BANK_3M'])\n",
        "df['NUM_NEW_LOAN_TAKEN_NON_BANK_3M'] = df['NUM_NEW_LOAN_TAKEN_NON_BANK_3M'].fillna(df['NUM_NEW_LOAN_TAKEN_3M'] - df['NUM_NEW_LOAN_TAKEN_BANK_3M'])\n"
      ]
    },
    {
      "cell_type": "code",
      "execution_count": 16,
      "metadata": {
        "collapsed": true,
        "id": "30IiHcQBbK2b",
        "colab": {
          "base_uri": "https://localhost:8080/"
        },
        "outputId": "107c71fc-59da-4de8-9bb4-2a4e27fa24cb"
      },
      "outputs": [
        {
          "output_type": "stream",
          "name": "stdout",
          "text": [
            "       customer_id  label  SHORT_TERM_COUNT  MID_TERM_COUNT  LONG_TERM_COUNT  \\\n",
            "0             1639      1               1.0             1.0              1.0   \n",
            "1            23717      0              10.0             1.0              1.0   \n",
            "2            19474      0               7.0             7.0              1.0   \n",
            "3            15505      0               7.0             1.0              1.0   \n",
            "4             1538      1               1.0             4.0              1.0   \n",
            "...            ...    ...               ...             ...              ...   \n",
            "19995        13215      0               4.0             1.0              1.0   \n",
            "19996          938      0               4.0             1.0              1.0   \n",
            "19997        11823      0               7.0             1.0              1.0   \n",
            "19998        14609      0              10.0             4.0              1.0   \n",
            "19999        18772      1               1.0             4.0              1.0   \n",
            "\n",
            "       SHORT_TERM_COUNT_BANK  MID_TERM_COUNT_BANK  LONG_TERM_COUNT_BANK  \\\n",
            "0                        1.0                  1.0                   1.0   \n",
            "1                        7.0                  1.0                   1.0   \n",
            "2                        7.0                  4.0                   1.0   \n",
            "3                        1.0                  1.0                   1.0   \n",
            "4                        1.0                  1.0                   1.0   \n",
            "...                      ...                  ...                   ...   \n",
            "19995                    4.0                  1.0                   1.0   \n",
            "19996                    1.0                  1.0                   1.0   \n",
            "19997                    4.0                  1.0                   1.0   \n",
            "19998                   10.0                  1.0                   1.0   \n",
            "19999                    1.0                  1.0                   1.0   \n",
            "\n",
            "       SHORT_TERM_COUNT_NON_BANK  MID_TERM_COUNT_NON_BANK  ...  \\\n",
            "0                            1.0                      1.0  ...   \n",
            "1                            4.0                      1.0  ...   \n",
            "2                            1.0                      4.0  ...   \n",
            "3                            7.0                      1.0  ...   \n",
            "4                            1.0                      4.0  ...   \n",
            "...                          ...                      ...  ...   \n",
            "19995                        1.0                      1.0  ...   \n",
            "19996                        4.0                      1.0  ...   \n",
            "19997                        4.0                      1.0  ...   \n",
            "19998                        1.0                      4.0  ...   \n",
            "19999                        1.0                      4.0  ...   \n",
            "\n",
            "       ENQUIRIES_FROM_BANK_6M_9M  ENQUIRIES_FROM_BANK_9M_12M  \\\n",
            "0                            NaN                    2.000000   \n",
            "1                       2.000000                    7.000000   \n",
            "2                       7.000000                    5.571429   \n",
            "3                       6.090909                    7.000000   \n",
            "4                       2.000000                    2.000000   \n",
            "...                          ...                         ...   \n",
            "19995                  -3.000000                         NaN   \n",
            "19996                   2.000000                         NaN   \n",
            "19997                        NaN                    7.000000   \n",
            "19998                   7.000000                    4.857143   \n",
            "19999                   2.000000                         NaN   \n",
            "\n",
            "       ENQUIRIES_FROM_BANK_6M_12M  ENQUIRIES_FROM_BANK_3M_12M  \\\n",
            "0                        2.000000                    2.000000   \n",
            "1                        2.000000                    2.000000   \n",
            "2                        5.571429                    5.571429   \n",
            "3                             NaN                         NaN   \n",
            "4                        2.000000                    2.000000   \n",
            "...                           ...                         ...   \n",
            "19995                         NaN                   -3.000000   \n",
            "19996                    2.000000                    2.000000   \n",
            "19997                    7.000000                    4.222222   \n",
            "19998                    4.857143                    3.428571   \n",
            "19999                         NaN                    2.000000   \n",
            "\n",
            "       ENQUIRIES_FROM_NON_BANK_3M_6M  ENQUIRIES_FROM_NON_BANK_6M_9M  \\\n",
            "0                           7.000000                       3.666667   \n",
            "1                           7.000000                       7.000000   \n",
            "2                           7.000000                       7.000000   \n",
            "3                           4.500000                       5.333333   \n",
            "4                           3.666667                       7.000000   \n",
            "...                              ...                            ...   \n",
            "19995                            NaN                       7.000000   \n",
            "19996                       7.000000                       7.000000   \n",
            "19997                       7.000000                       7.000000   \n",
            "19998                       7.000000                       7.000000   \n",
            "19999                            NaN                       7.000000   \n",
            "\n",
            "       ENQUIRIES_FROM_NON_BANK_9M_12M  ENQUIRIES_FROM_NON_BANK_6M_12M  \\\n",
            "0                            7.000000                        3.666667   \n",
            "1                            7.000000                        7.000000   \n",
            "2                            7.000000                        7.000000   \n",
            "3                            7.000000                        5.333333   \n",
            "4                            7.000000                        7.000000   \n",
            "...                               ...                             ...   \n",
            "19995                        7.000000                        7.000000   \n",
            "19996                             NaN                        7.000000   \n",
            "19997                        5.333333                        5.333333   \n",
            "19998                        7.000000                        7.000000   \n",
            "19999                        7.000000                        7.000000   \n",
            "\n",
            "       ENQUIRIES_FROM_NON_BANK_3M_12M  OUTSTANDING_BAL_ALL_CURRENT  \n",
            "0                            3.666667                    1000000.0  \n",
            "1                            7.000000                          NaN  \n",
            "2                            7.000000                    1000620.0  \n",
            "3                            3.666667                    1000170.0  \n",
            "4                            3.666667                    1000270.0  \n",
            "...                               ...                          ...  \n",
            "19995                        7.000000                    1000010.0  \n",
            "19996                        7.000000                    1000020.0  \n",
            "19997                        5.333333                    1001060.0  \n",
            "19998                        7.000000                    1000950.0  \n",
            "19999                        7.000000                    1000100.0  \n",
            "\n",
            "[19986 rows x 124 columns]\n"
          ]
        }
      ],
      "source": [
        "print(df)"
      ]
    },
    {
      "cell_type": "code",
      "execution_count": 17,
      "metadata": {
        "collapsed": true,
        "id": "H2W4uvq2drqi"
      },
      "outputs": [],
      "source": [
        "my_list = ['NUM_NEW_LOAN_TAKEN_3M','NUM_NEW_LOAN_TAKEN_6M','NUM_NEW_LOAN_TAKEN_9M','NUM_NEW_LOAN_TAKEN_12M',\n",
        "           'NUM_NEW_LOAN_TAKEN_BANK_3M','NUM_NEW_LOAN_TAKEN_BANK_6M','NUM_NEW_LOAN_TAKEN_BANK_9M','NUM_NEW_LOAN_TAKEN_BANK_12M',\n",
        "           'NUM_NEW_LOAN_TAKEN_NON_BANK_3M','NUM_NEW_LOAN_TAKEN_NON_BANK_6M','NUM_NEW_LOAN_TAKEN_NON_BANK_9M','NUM_NEW_LOAN_TAKEN_NON_BANK_12M']\n",
        "\n",
        "def NaN_NullCheck2(row):\n",
        "    for name in my_list:\n",
        "        if pd.isnull(row[name]): return True\n",
        "    return False\n",
        "\n",
        "temp2 = df[df.apply(NaN_NullCheck2, axis=1)]\n",
        "\n",
        "df = df[~df.apply(NaN_NullCheck2, axis=1)]"
      ]
    },
    {
      "cell_type": "code",
      "execution_count": 18,
      "metadata": {
        "id": "wfLUnmz-h6uY",
        "colab": {
          "base_uri": "https://localhost:8080/"
        },
        "outputId": "f8ca72ce-20fb-438e-bd8a-5e30d63a2817"
      },
      "outputs": [
        {
          "output_type": "stream",
          "name": "stdout",
          "text": [
            "       NUM_NEW_LOAN_TAKEN_3M  NUM_NEW_LOAN_TAKEN_6M  NUM_NEW_LOAN_TAKEN_9M  \\\n",
            "0                        1.0                    1.0                    NaN   \n",
            "5                        4.0                    4.0                    4.0   \n",
            "10                       1.0                    2.0                    4.0   \n",
            "13                       4.0                    NaN                    4.0   \n",
            "15                       NaN                   16.0                   19.0   \n",
            "...                      ...                    ...                    ...   \n",
            "19957                    NaN                    4.0                    4.0   \n",
            "19962                    4.0                    4.0                    NaN   \n",
            "19965                    8.0                   10.0                    NaN   \n",
            "19972                    7.0                    NaN                    7.0   \n",
            "19996                    1.0                    1.0                    4.0   \n",
            "\n",
            "       NUM_NEW_LOAN_TAKEN_12M  NUM_NEW_LOAN_TAKEN_BANK_3M  \\\n",
            "0                         1.0                         1.0   \n",
            "5                         8.0                         4.0   \n",
            "10                        4.0                         NaN   \n",
            "13                        4.0                         4.0   \n",
            "15                       22.0                        10.0   \n",
            "...                       ...                         ...   \n",
            "19957                     7.0                         4.0   \n",
            "19962                     4.0                         4.0   \n",
            "19965                    10.0                         4.0   \n",
            "19972                     7.0                         7.0   \n",
            "19996                     4.0                         1.0   \n",
            "\n",
            "       NUM_NEW_LOAN_TAKEN_BANK_6M  NUM_NEW_LOAN_TAKEN_BANK_9M  \\\n",
            "0                             1.0                         1.0   \n",
            "5                             4.0                         NaN   \n",
            "10                            1.0                         4.0   \n",
            "13                            NaN                         4.0   \n",
            "15                           16.0                        19.0   \n",
            "...                           ...                         ...   \n",
            "19957                         4.0                         4.0   \n",
            "19962                         NaN                         4.0   \n",
            "19965                        10.0                        10.0   \n",
            "19972                         7.0                         0.0   \n",
            "19996                         1.0                         NaN   \n",
            "\n",
            "       NUM_NEW_LOAN_TAKEN_BANK_12M  NUM_NEW_LOAN_TAKEN_NON_BANK_3M  \\\n",
            "0                              1.0                             1.0   \n",
            "5                              4.0                             4.0   \n",
            "10                             0.0                             NaN   \n",
            "13                             4.0                             0.0   \n",
            "15                             0.0                             NaN   \n",
            "...                            ...                             ...   \n",
            "19957                          NaN                             NaN   \n",
            "19962                          4.0                             4.0   \n",
            "19965                         10.0                             4.0   \n",
            "19972                          7.0                             7.0   \n",
            "19996                          4.0                             1.0   \n",
            "\n",
            "       NUM_NEW_LOAN_TAKEN_NON_BANK_6M  NUM_NEW_LOAN_TAKEN_NON_BANK_9M  \\\n",
            "0                                 1.0                             NaN   \n",
            "5                                 4.0                             NaN   \n",
            "10                                1.0                             4.0   \n",
            "13                                4.0                             4.0   \n",
            "15                               16.0                            19.0   \n",
            "...                               ...                             ...   \n",
            "19957                             4.0                             4.0   \n",
            "19962                             NaN                             NaN   \n",
            "19965                            10.0                             NaN   \n",
            "19972                             NaN                             7.0   \n",
            "19996                             1.0                             NaN   \n",
            "\n",
            "       NUM_NEW_LOAN_TAKEN_NON_BANK_12M  OUTSTANDING_BAL_LOAN_CURRENT  \n",
            "0                                  1.0                     1000000.0  \n",
            "5                                  4.0                     1000100.0  \n",
            "10                                 4.0                     1000130.0  \n",
            "13                                 4.0                     1000030.0  \n",
            "15                                22.0                           NaN  \n",
            "...                                ...                           ...  \n",
            "19957                              NaN                     1000170.0  \n",
            "19962                              4.0                     1000160.0  \n",
            "19965                             10.0                     1000430.0  \n",
            "19972                              7.0                     1000070.0  \n",
            "19996                              4.0                     1000020.0  \n",
            "\n",
            "[2129 rows x 13 columns]\n"
          ]
        }
      ],
      "source": [
        "print(temp2.iloc[:, 20:33])"
      ]
    },
    {
      "cell_type": "code",
      "execution_count": 19,
      "metadata": {
        "id": "nWEOz3yIfont",
        "colab": {
          "base_uri": "https://localhost:8080/"
        },
        "outputId": "49f885cf-d068-4e2b-ddb7-073d1e53a0d8"
      },
      "outputs": [
        {
          "output_type": "stream",
          "name": "stdout",
          "text": [
            "NUM_NEW_LOAN_TAKEN_3M : 0\n",
            "NUM_NEW_LOAN_TAKEN_6M : 0\n",
            "NUM_NEW_LOAN_TAKEN_9M : 0\n",
            "NUM_NEW_LOAN_TAKEN_12M : 0\n",
            "NUM_NEW_LOAN_TAKEN_BANK_3M : 0\n",
            "NUM_NEW_LOAN_TAKEN_BANK_6M : 0\n",
            "NUM_NEW_LOAN_TAKEN_BANK_9M : 0\n",
            "NUM_NEW_LOAN_TAKEN_BANK_12M : 0\n",
            "NUM_NEW_LOAN_TAKEN_NON_BANK_3M : 0\n",
            "NUM_NEW_LOAN_TAKEN_NON_BANK_6M : 0\n",
            "NUM_NEW_LOAN_TAKEN_NON_BANK_9M : 0\n",
            "NUM_NEW_LOAN_TAKEN_NON_BANK_12M : 0\n"
          ]
        }
      ],
      "source": [
        "for name in my_list:\n",
        "    print(name, ':', df[name].isnull().sum())"
      ]
    },
    {
      "cell_type": "code",
      "execution_count": 20,
      "metadata": {
        "collapsed": true,
        "id": "t26fD02zlTxh"
      },
      "outputs": [],
      "source": [
        "def fill_Different_features_outstanding(x, y, z):\n",
        "    global df\n",
        "    df[x] = df[x].fillna(df[y] + df[z] - 10**6)\n",
        "    df[y] = df[y].fillna(df[x] + 10**6 - df[z])\n",
        "    df[z] = df[z].fillna(df[x] + 10**6 - df[y])\n",
        "    return"
      ]
    },
    {
      "cell_type": "code",
      "execution_count": 21,
      "metadata": {
        "id": "29KWh7uaeteU"
      },
      "outputs": [],
      "source": [
        "fill_Different_features_outstanding('OUTSTANDING_BAL_ALL_3M', 'OUTSTANDING_BAL_LOAN_3M', 'OUTSTANDING_BAL_CC_3M')\n",
        "fill_Different_features_outstanding('OUTSTANDING_BAL_ALL_6M', 'OUTSTANDING_BAL_LOAN_6M', 'OUTSTANDING_BAL_CC_6M')\n",
        "fill_Different_features_outstanding('OUTSTANDING_BAL_ALL_9M', 'OUTSTANDING_BAL_LOAN_9M', 'OUTSTANDING_BAL_CC_9M')\n",
        "fill_Different_features_outstanding('OUTSTANDING_BAL_ALL_12M', 'OUTSTANDING_BAL_LOAN_12M', 'OUTSTANDING_BAL_CC_12M')\n",
        "fill_Different_features_outstanding('OUTSTANDING_BAL_ALL_CURRENT', 'OUTSTANDING_BAL_LOAN_CURRENT', 'OUTSTANDING_BAL_CC_CURRENT')\n",
        "\n",
        "# print(df)"
      ]
    },
    {
      "cell_type": "code",
      "execution_count": 22,
      "metadata": {
        "id": "9ra6reZioBM7",
        "colab": {
          "base_uri": "https://localhost:8080/"
        },
        "outputId": "47e78344-caeb-44ee-b49c-0f57020b05d2"
      },
      "outputs": [
        {
          "output_type": "stream",
          "name": "stdout",
          "text": [
            "OUTSTANDING_BAL_LOAN_3M : 341\n",
            "OUTSTANDING_BAL_LOAN_6M : 301\n",
            "OUTSTANDING_BAL_LOAN_9M : 294\n",
            "OUTSTANDING_BAL_LOAN_12M : 338\n",
            "OUTSTANDING_BAL_ALL_CURRENT : 369\n"
          ]
        }
      ],
      "source": [
        "my_list2 = ['OUTSTANDING_BAL_LOAN_3M', 'OUTSTANDING_BAL_LOAN_6M', 'OUTSTANDING_BAL_LOAN_9M', 'OUTSTANDING_BAL_LOAN_12M', 'OUTSTANDING_BAL_ALL_CURRENT']\n",
        "for name in my_list2:\n",
        "    print(name, ':', df[name].isnull().sum())"
      ]
    },
    {
      "cell_type": "code",
      "execution_count": 23,
      "metadata": {
        "id": "9Wi7hml8sq7A"
      },
      "outputs": [],
      "source": [
        "fill_Different_features_outstanding('OUTSTANDING_BAL_LOAN_3M_6M', 'OUTSTANDING_BAL_LOAN_6M', 'OUTSTANDING_BAL_LOAN_3M')\n",
        "fill_Different_features_outstanding('OUTSTANDING_BAL_LOAN_6M_9M', 'OUTSTANDING_BAL_LOAN_9M', 'OUTSTANDING_BAL_LOAN_6M')\n",
        "fill_Different_features_outstanding('OUTSTANDING_BAL_LOAN_9M_12M', 'OUTSTANDING_BAL_LOAN_12M', 'OUTSTANDING_BAL_LOAN_9M')\n",
        "fill_Different_features_outstanding('OUTSTANDING_BAL_LOAN_6M_12M', 'OUTSTANDING_BAL_LOAN_12M', 'OUTSTANDING_BAL_LOAN_6M')\n",
        "fill_Different_features_outstanding('OUTSTANDING_BAL_LOAN_3M_12M', 'OUTSTANDING_BAL_LOAN_12M', 'OUTSTANDING_BAL_LOAN_3M')\n",
        "\n",
        "fill_Different_features_outstanding('OUTSTANDING_BAL_LOAN_3M_6M', 'OUTSTANDING_BAL_LOAN_6M', 'OUTSTANDING_BAL_LOAN_3M')\n",
        "fill_Different_features_outstanding('OUTSTANDING_BAL_LOAN_6M_9M', 'OUTSTANDING_BAL_LOAN_9M', 'OUTSTANDING_BAL_LOAN_6M')\n",
        "fill_Different_features_outstanding('OUTSTANDING_BAL_LOAN_9M_12M', 'OUTSTANDING_BAL_LOAN_12M', 'OUTSTANDING_BAL_LOAN_9M')\n",
        "fill_Different_features_outstanding('OUTSTANDING_BAL_LOAN_6M_12M', 'OUTSTANDING_BAL_LOAN_12M', 'OUTSTANDING_BAL_LOAN_6M')\n",
        "fill_Different_features_outstanding('OUTSTANDING_BAL_LOAN_3M_12M', 'OUTSTANDING_BAL_LOAN_12M', 'OUTSTANDING_BAL_LOAN_3M')"
      ]
    },
    {
      "cell_type": "code",
      "execution_count": 24,
      "metadata": {
        "id": "xq0V6vhPe9bi"
      },
      "outputs": [],
      "source": [
        "fill_Different_features_outstanding('OUTSTANDING_BAL_CC_3M_6M', 'OUTSTANDING_BAL_CC_6M', 'OUTSTANDING_BAL_CC_3M')\n",
        "fill_Different_features_outstanding('OUTSTANDING_BAL_CC_6M_9M', 'OUTSTANDING_BAL_CC_9M', 'OUTSTANDING_BAL_CC_6M')\n",
        "fill_Different_features_outstanding('OUTSTANDING_BAL_CC_9M_12M', 'OUTSTANDING_BAL_CC_12M', 'OUTSTANDING_BAL_CC_9M')\n",
        "fill_Different_features_outstanding('OUTSTANDING_BAL_CC_6M_12M', 'OUTSTANDING_BAL_CC_12M', 'OUTSTANDING_BAL_CC_6M')\n",
        "fill_Different_features_outstanding('OUTSTANDING_BAL_CC_3M_12M', 'OUTSTANDING_BAL_CC_12M', 'OUTSTANDING_BAL_CC_3M')\n",
        "\n",
        "fill_Different_features_outstanding('OUTSTANDING_BAL_CC_3M_6M', 'OUTSTANDING_BAL_CC_6M', 'OUTSTANDING_BAL_CC_3M')\n",
        "fill_Different_features_outstanding('OUTSTANDING_BAL_CC_6M_9M', 'OUTSTANDING_BAL_CC_9M', 'OUTSTANDING_BAL_CC_6M')\n",
        "fill_Different_features_outstanding('OUTSTANDING_BAL_CC_9M_12M', 'OUTSTANDING_BAL_CC_12M', 'OUTSTANDING_BAL_CC_9M')\n",
        "fill_Different_features_outstanding('OUTSTANDING_BAL_CC_6M_12M', 'OUTSTANDING_BAL_CC_12M', 'OUTSTANDING_BAL_CC_6M')\n",
        "fill_Different_features_outstanding('OUTSTANDING_BAL_CC_3M_12M', 'OUTSTANDING_BAL_CC_12M', 'OUTSTANDING_BAL_CC_3M')"
      ]
    },
    {
      "cell_type": "code",
      "execution_count": 25,
      "metadata": {
        "id": "2UrYAhtj4BVB"
      },
      "outputs": [],
      "source": [
        "fill_Different_features_outstanding('OUTSTANDING_BAL_ALL_3M_6M', 'OUTSTANDING_BAL_ALL_6M', 'OUTSTANDING_BAL_ALL_3M')\n",
        "fill_Different_features_outstanding('OUTSTANDING_BAL_ALL_6M_9M', 'OUTSTANDING_BAL_ALL_9M', 'OUTSTANDING_BAL_ALL_6M')\n",
        "fill_Different_features_outstanding('OUTSTANDING_BAL_ALL_9M_12M', 'OUTSTANDING_BAL_ALL_12M', 'OUTSTANDING_BAL_ALL_9M')\n",
        "fill_Different_features_outstanding('OUTSTANDING_BAL_ALL_6M_12M', 'OUTSTANDING_BAL_ALL_12M', 'OUTSTANDING_BAL_ALL_6M')\n",
        "fill_Different_features_outstanding('OUTSTANDING_BAL_ALL_3M_12M', 'OUTSTANDING_BAL_ALL_12M', 'OUTSTANDING_BAL_ALL_3M')\n",
        "\n",
        "fill_Different_features_outstanding('OUTSTANDING_BAL_ALL_3M_6M', 'OUTSTANDING_BAL_ALL_6M', 'OUTSTANDING_BAL_ALL_3M')\n",
        "fill_Different_features_outstanding('OUTSTANDING_BAL_ALL_6M_9M', 'OUTSTANDING_BAL_ALL_9M', 'OUTSTANDING_BAL_ALL_6M')\n",
        "fill_Different_features_outstanding('OUTSTANDING_BAL_ALL_9M_12M', 'OUTSTANDING_BAL_ALL_12M', 'OUTSTANDING_BAL_ALL_9M')\n",
        "fill_Different_features_outstanding('OUTSTANDING_BAL_ALL_6M_12M', 'OUTSTANDING_BAL_ALL_12M', 'OUTSTANDING_BAL_ALL_6M')\n",
        "fill_Different_features_outstanding('OUTSTANDING_BAL_ALL_3M_12M', 'OUTSTANDING_BAL_ALL_12M', 'OUTSTANDING_BAL_ALL_3M')"
      ]
    },
    {
      "cell_type": "code",
      "execution_count": 26,
      "metadata": {
        "id": "ewXRH1dN4EcW"
      },
      "outputs": [],
      "source": [
        "fill_Different_features_outstanding('OUTSTANDING_BAL_ALL_3M', 'OUTSTANDING_BAL_LOAN_3M', 'OUTSTANDING_BAL_CC_3M')\n",
        "fill_Different_features_outstanding('OUTSTANDING_BAL_ALL_6M', 'OUTSTANDING_BAL_LOAN_6M', 'OUTSTANDING_BAL_CC_6M')\n",
        "fill_Different_features_outstanding('OUTSTANDING_BAL_ALL_9M', 'OUTSTANDING_BAL_LOAN_9M', 'OUTSTANDING_BAL_CC_9M')\n",
        "fill_Different_features_outstanding('OUTSTANDING_BAL_ALL_12M', 'OUTSTANDING_BAL_LOAN_12M', 'OUTSTANDING_BAL_CC_12M')\n",
        "fill_Different_features_outstanding('OUTSTANDING_BAL_ALL_CURRENT', 'OUTSTANDING_BAL_LOAN_CURRENT', 'OUTSTANDING_BAL_CC_CURRENT')"
      ]
    },
    {
      "cell_type": "code",
      "execution_count": 27,
      "metadata": {
        "id": "ugQkPAAMvnvP",
        "colab": {
          "base_uri": "https://localhost:8080/"
        },
        "outputId": "df469e85-4e95-4fa6-c72f-62db09c46b72"
      },
      "outputs": [
        {
          "output_type": "stream",
          "name": "stdout",
          "text": [
            "OUTSTANDING_BAL_ALL_3M : 0\n",
            "OUTSTANDING_BAL_ALL_6M : 0\n",
            "OUTSTANDING_BAL_ALL_9M : 0\n",
            "OUTSTANDING_BAL_ALL_12M : 0\n",
            "OUTSTANDING_BAL_ALL_3M_12M : 2\n",
            "OUTSTANDING_BAL_ALL_3M_6M : 2\n",
            "OUTSTANDING_BAL_ALL_6M_9M : 0\n",
            "OUTSTANDING_BAL_ALL_9M_12M : 0\n",
            "OUTSTANDING_BAL_ALL_6M_12M : 0\n",
            "OUTSTANDING_BAL_ALL_3M_12M : 2\n"
          ]
        }
      ],
      "source": [
        "my_list2 = ['OUTSTANDING_BAL_ALL_3M', 'OUTSTANDING_BAL_ALL_6M', 'OUTSTANDING_BAL_ALL_9M', 'OUTSTANDING_BAL_ALL_12M', 'OUTSTANDING_BAL_ALL_3M_12M',\n",
        "            'OUTSTANDING_BAL_ALL_3M_6M', 'OUTSTANDING_BAL_ALL_6M_9M', 'OUTSTANDING_BAL_ALL_9M_12M', 'OUTSTANDING_BAL_ALL_6M_12M', 'OUTSTANDING_BAL_ALL_3M_12M']\n",
        "\n",
        "for name in my_list2:\n",
        "    print(name, ':', df[name].isnull().sum())"
      ]
    },
    {
      "cell_type": "code",
      "execution_count": 28,
      "metadata": {
        "id": "yM3flIESvCts",
        "colab": {
          "base_uri": "https://localhost:8080/"
        },
        "outputId": "c4eeb9ea-ef0f-41ff-d59f-3db5146abda0"
      },
      "outputs": [
        {
          "output_type": "stream",
          "name": "stdout",
          "text": [
            "OUTSTANDING_BAL_ALL_3M : 0\n",
            "OUTSTANDING_BAL_ALL_6M : 0\n",
            "OUTSTANDING_BAL_ALL_9M : 0\n",
            "OUTSTANDING_BAL_ALL_12M : 0\n",
            "OUTSTANDING_BAL_ALL_3M_12M : 0\n",
            "OUTSTANDING_BAL_ALL_3M_6M : 0\n",
            "OUTSTANDING_BAL_ALL_6M_9M : 0\n",
            "OUTSTANDING_BAL_ALL_9M_12M : 0\n",
            "OUTSTANDING_BAL_ALL_6M_12M : 0\n",
            "OUTSTANDING_BAL_ALL_3M_12M : 0\n"
          ]
        }
      ],
      "source": [
        "def NaN_NullCheck3(row):\n",
        "    for name in my_list2:\n",
        "        if pd.isnull(row[name]): return True\n",
        "    return False\n",
        "\n",
        "df = df[~df.apply(NaN_NullCheck3, axis=1)]\n",
        "\n",
        "for name in my_list2:\n",
        "    print(name, ':', df[name].isnull().sum())"
      ]
    },
    {
      "cell_type": "code",
      "execution_count": 29,
      "metadata": {
        "id": "errQdIant0VR"
      },
      "outputs": [],
      "source": [
        "X = df.iloc[:, [2, 3, 11, 14, 17, 20, 21, 22, 23, 55, 56, 57, 58]]\n",
        "y = df.iloc[:, 1]"
      ]
    },
    {
      "cell_type": "code",
      "execution_count": 30,
      "metadata": {
        "id": "xr8WiJ3ybO5W"
      },
      "outputs": [],
      "source": [
        "from sklearn.model_selection import train_test_split\n",
        "\n",
        "X_train, X_test, y_train, y_test = train_test_split(X, y, test_size=0.2, stratify=y, random_state=42)"
      ]
    },
    {
      "cell_type": "markdown",
      "source": [
        "GRID SEARCH CV for LINEAR REGRESSION"
      ],
      "metadata": {
        "id": "-RNiWeYN_RhO"
      }
    },
    {
      "cell_type": "code",
      "execution_count": 31,
      "metadata": {
        "id": "idGeJ3SsNK77",
        "colab": {
          "base_uri": "https://localhost:8080/"
        },
        "outputId": "5731cc45-66f5-483b-c79f-b11aac8ce554"
      },
      "outputs": [
        {
          "output_type": "stream",
          "name": "stdout",
          "text": [
            "Best Parameters: {'C': 1, 'penalty': 'l1', 'solver': 'liblinear'}\n",
            "Best Recall Score: 0.3978655034532897\n",
            "Recall on Test Set: 0.3628048780487805\n"
          ]
        }
      ],
      "source": [
        "from sklearn.linear_model import LogisticRegression\n",
        "from sklearn.model_selection import GridSearchCV\n",
        "from sklearn.metrics import recall_score\n",
        "\n",
        "# Define the model and parameter grid\n",
        "model = LogisticRegression()\n",
        "param_grid = {\n",
        "    'penalty': ['l1', 'l2'],\n",
        "    'C': [0.001, 0.01, 0.1, 1, 10, 100],\n",
        "    'solver': ['liblinear']  # Suitable for both l1 and l2 penalty\n",
        "}\n",
        "\n",
        "# Create GridSearchCV object with recall scoring\n",
        "grid_search = GridSearchCV(estimator=model, param_grid=param_grid, scoring='recall', cv=5)\n",
        "\n",
        "# Fit the grid search to your training data\n",
        "grid_search.fit(X_train, y_train)\n",
        "\n",
        "# Print the best parameters and the best score\n",
        "print(\"Best Parameters:\", grid_search.best_params_)\n",
        "print(\"Best Recall Score:\", grid_search.best_score_)\n",
        "\n",
        "# Evaluate the best model on the test set\n",
        "y_pred = grid_search.predict(X_test)\n",
        "recall = recall_score(y_test, y_pred)\n",
        "print(\"Recall on Test Set:\", recall)\n"
      ]
    },
    {
      "cell_type": "markdown",
      "source": [
        "LINEAR REGRESSION MODEL"
      ],
      "metadata": {
        "id": "ZQL84fFi_HGu"
      }
    },
    {
      "cell_type": "code",
      "execution_count": 32,
      "metadata": {
        "id": "Q3naUw_3uHYw",
        "colab": {
          "base_uri": "https://localhost:8080/"
        },
        "outputId": "f8df161e-8b3c-406f-f99f-44780ffba333"
      },
      "outputs": [
        {
          "output_type": "stream",
          "name": "stdout",
          "text": [
            "Accuracy: 0.8823858863063567\n",
            "              precision    recall  f1-score   support\n",
            "\n",
            "           0       0.88      1.00      0.93      2915\n",
            "           1       0.98      0.37      0.54       656\n",
            "\n",
            "    accuracy                           0.88      3571\n",
            "   macro avg       0.93      0.68      0.73      3571\n",
            "weighted avg       0.89      0.88      0.86      3571\n",
            "\n"
          ]
        }
      ],
      "source": [
        "from sklearn.linear_model import LogisticRegression\n",
        "from sklearn.metrics import accuracy_score, classification_report\n",
        "\n",
        "# Create a logistic regression model\n",
        "model_lr = LogisticRegression(max_iter=3000, random_state=42)\n",
        "\n",
        "# Train the model\n",
        "model_lr.fit(X_train, y_train)\n",
        "\n",
        "# Make predictions on the test set\n",
        "y_pred = model_lr.predict(X_test)\n",
        "\n",
        "# Evaluate the model\n",
        "accuracy = accuracy_score(y_test, y_pred)\n",
        "print(f\"Accuracy: {accuracy}\")\n",
        "\n",
        "print(classification_report(y_test, y_pred))\n"
      ]
    },
    {
      "cell_type": "markdown",
      "source": [
        "GRID SEARCH CV for DECISION TREE CLASSIFIER"
      ],
      "metadata": {
        "id": "rATf2uTu_Zmo"
      }
    },
    {
      "cell_type": "code",
      "execution_count": 33,
      "metadata": {
        "id": "A3RrT2QM42ig",
        "colab": {
          "base_uri": "https://localhost:8080/"
        },
        "outputId": "9167466e-2740-4e09-d6e8-793b0ecb7f7f"
      },
      "outputs": [
        {
          "output_type": "stream",
          "name": "stdout",
          "text": [
            "Best Parameters: {'criterion': 'gini', 'max_depth': None, 'min_samples_leaf': 1, 'min_samples_split': 2}\n",
            "Best Recall Score: 0.5121912031988367\n",
            "Recall on Test Set: 0.5076219512195121\n"
          ]
        }
      ],
      "source": [
        "from sklearn.model_selection import GridSearchCV\n",
        "from sklearn.tree import DecisionTreeClassifier\n",
        "from sklearn.metrics import recall_score\n",
        "\n",
        "# Define the model and parameter grid\n",
        "model = DecisionTreeClassifier(random_state=42)\n",
        "param_grid = {\n",
        "    'criterion': ['gini', 'entropy'],\n",
        "    'max_depth': [None, 500, 1000, 3000],\n",
        "    'min_samples_split': [2, 3, 4],\n",
        "    'min_samples_leaf': [1, 2, 3, 4]\n",
        "}\n",
        "\n",
        "# Create GridSearchCV object with recall scoring\n",
        "grid_search = GridSearchCV(estimator=model, param_grid=param_grid, scoring='recall', cv=5)\n",
        "\n",
        "# Fit the grid search to your training data\n",
        "grid_search.fit(X_train, y_train)\n",
        "\n",
        "# Print the best parameters and the best score\n",
        "print(\"Best Parameters:\", grid_search.best_params_)\n",
        "print(\"Best Recall Score:\", grid_search.best_score_)\n",
        "\n",
        "# Evaluate the best model on the test set\n",
        "y_pred = grid_search.predict(X_test)\n",
        "recall = recall_score(y_test, y_pred)\n",
        "print(\"Recall on Test Set:\", recall)\n"
      ]
    },
    {
      "cell_type": "markdown",
      "source": [
        "DECISION TREE CLASSIFIER MODEL"
      ],
      "metadata": {
        "id": "RORzvjGS_hon"
      }
    },
    {
      "cell_type": "code",
      "execution_count": 34,
      "metadata": {
        "id": "xrAp5g5juOUy",
        "colab": {
          "base_uri": "https://localhost:8080/"
        },
        "outputId": "2dcdee6b-4d38-4cb6-b417-a36a51a2ce51"
      },
      "outputs": [
        {
          "output_type": "stream",
          "name": "stdout",
          "text": [
            "Decision Tree Accuracy: 0.860543265191823\n",
            "              precision    recall  f1-score   support\n",
            "\n",
            "           0       0.89      0.95      0.92      2915\n",
            "           1       0.67      0.48      0.56       656\n",
            "\n",
            "    accuracy                           0.86      3571\n",
            "   macro avg       0.78      0.71      0.74      3571\n",
            "weighted avg       0.85      0.86      0.85      3571\n",
            "\n"
          ]
        }
      ],
      "source": [
        "from sklearn.tree import DecisionTreeClassifier\n",
        "from sklearn.metrics import accuracy_score, classification_report\n",
        "\n",
        "# Create a Decision Tree model\n",
        "model_dt = DecisionTreeClassifier(criterion='gini', max_depth=3000, min_samples_leaf=3, min_samples_split=15, random_state=42)\n",
        "\n",
        "# Train the model\n",
        "model_dt.fit(X_train, y_train)\n",
        "\n",
        "# Make predictions on the test set\n",
        "y_pred_dt = model_dt.predict(X_test)\n",
        "\n",
        "# Evaluate the model\n",
        "accuracy_dt = accuracy_score(y_test, y_pred_dt)\n",
        "print(f\"Decision Tree Accuracy: {accuracy_dt}\")\n",
        "\n",
        "print(classification_report(y_test, y_pred_dt))"
      ]
    },
    {
      "cell_type": "markdown",
      "source": [
        "RANDOM FOREST CLASSIFIER MODEL"
      ],
      "metadata": {
        "id": "IzNZIpbj_mSH"
      }
    },
    {
      "cell_type": "code",
      "execution_count": 35,
      "metadata": {
        "id": "v_gei7JuuOW_",
        "colab": {
          "base_uri": "https://localhost:8080/"
        },
        "outputId": "51fc70be-9a10-4b50-b4e6-fcf3bc128635"
      },
      "outputs": [
        {
          "output_type": "stream",
          "name": "stdout",
          "text": [
            "Random Forest Accuracy: 0.8566227947353683\n",
            "              precision    recall  f1-score   support\n",
            "\n",
            "           0       0.89      0.94      0.91      2915\n",
            "           1       0.65      0.47      0.55       656\n",
            "\n",
            "    accuracy                           0.86      3571\n",
            "   macro avg       0.77      0.71      0.73      3571\n",
            "weighted avg       0.84      0.86      0.85      3571\n",
            "\n"
          ]
        }
      ],
      "source": [
        "from sklearn.ensemble import RandomForestClassifier\n",
        "\n",
        "# Create a Random Forest model\n",
        "model_rf = RandomForestClassifier(criterion='gini', n_estimators=3, max_depth=3000, min_samples_leaf=1, min_samples_split=2, random_state=42)\n",
        "\n",
        "# Train the model\n",
        "model_rf.fit(X_train, y_train)\n",
        "\n",
        "# Make predictions on the test set\n",
        "y_pred_rf = model_rf.predict(X_test)\n",
        "\n",
        "# Evaluate the model\n",
        "accuracy_rf = accuracy_score(y_test, y_pred_rf)\n",
        "print(f\"Random Forest Accuracy: {accuracy_rf}\")\n",
        "\n",
        "print(classification_report(y_test, y_pred_rf))\n"
      ]
    },
    {
      "cell_type": "markdown",
      "source": [
        "XG BOOST CLASSIFIER MODEL"
      ],
      "metadata": {
        "id": "J-LocROQ_qEH"
      }
    },
    {
      "cell_type": "code",
      "execution_count": 36,
      "metadata": {
        "id": "OdY8VXkzm43D",
        "colab": {
          "base_uri": "https://localhost:8080/"
        },
        "outputId": "80eb9676-f8d8-4247-8289-4a92dd0b20de"
      },
      "outputs": [
        {
          "output_type": "stream",
          "name": "stdout",
          "text": [
            "XGBoost Accuracy: 0.878465415849902\n",
            "              precision    recall  f1-score   support\n",
            "\n",
            "           0       0.88      0.98      0.93      2915\n",
            "           1       0.82      0.43      0.57       656\n",
            "\n",
            "    accuracy                           0.88      3571\n",
            "   macro avg       0.85      0.71      0.75      3571\n",
            "weighted avg       0.87      0.88      0.86      3571\n",
            "\n"
          ]
        }
      ],
      "source": [
        "from xgboost import XGBClassifier\n",
        "from sklearn.model_selection import train_test_split\n",
        "from sklearn.metrics import accuracy_score, classification_report\n",
        "\n",
        "# Create an XGBoost classifier\n",
        "model_xgb = XGBClassifier(colsample_bytree=1, learning_rate=0.01, max_depth=1000, n_estimators=1000, subsample=1, random_state=42)\n",
        "\n",
        "# Train the model\n",
        "model_xgb.fit(X_train, y_train)\n",
        "\n",
        "# Make predictions on the test set\n",
        "y_pred_xgb = model_xgb.predict(X_test)\n",
        "\n",
        "# Evaluate the model\n",
        "accuracy_xgb = accuracy_score(y_test, y_pred_xgb)\n",
        "print(f\"XGBoost Accuracy: {accuracy_xgb}\")\n",
        "\n",
        "print(classification_report(y_test, y_pred_xgb))"
      ]
    },
    {
      "cell_type": "markdown",
      "source": [
        "GAUSSIAN NAIVE BAYES MODEL"
      ],
      "metadata": {
        "id": "z4hHGEwu_vup"
      }
    },
    {
      "cell_type": "code",
      "execution_count": 37,
      "metadata": {
        "id": "BV0juW21nB_c",
        "colab": {
          "base_uri": "https://localhost:8080/"
        },
        "outputId": "1465f34c-3480-4387-859b-94fe96bd5b39"
      },
      "outputs": [
        {
          "output_type": "stream",
          "name": "stdout",
          "text": [
            "Naive Bayes Accuracy: 0.468776253150378\n",
            "              precision    recall  f1-score   support\n",
            "\n",
            "           0       0.93      0.38      0.54      2915\n",
            "           1       0.24      0.87      0.38       656\n",
            "\n",
            "    accuracy                           0.47      3571\n",
            "   macro avg       0.58      0.63      0.46      3571\n",
            "weighted avg       0.80      0.47      0.51      3571\n",
            "\n"
          ]
        }
      ],
      "source": [
        "from sklearn.naive_bayes import GaussianNB\n",
        "from sklearn.metrics import accuracy_score, classification_report\n",
        "\n",
        "# Create a Gaussian Naive Bayes model\n",
        "model_nb = GaussianNB()\n",
        "\n",
        "# Train the model\n",
        "model_nb.fit(X_train, y_train)\n",
        "\n",
        "# Make predictions on the test set\n",
        "y_pred_nb = model_nb.predict(X_test)\n",
        "\n",
        "# Evaluate the model\n",
        "accuracy_nb = accuracy_score(y_test, y_pred_nb)\n",
        "print(f\"Naive Bayes Accuracy: {accuracy_nb}\")\n",
        "\n",
        "print(classification_report(y_test, y_pred_nb))"
      ]
    },
    {
      "cell_type": "code",
      "source": [
        "from sklearn.metrics import accuracy_score, classification_report, recall_score, precision_score, f1_score\n",
        "\n",
        "models = {\n",
        "    \"Logistic Regression\": model_lr,  # Assuming 'model' is your trained Logistic Regression model\n",
        "    \"Decision Tree\": model_dt,       # Assuming 'model_dt' is your trained Decision Tree model\n",
        "    \"Random Forest\": model_rf,      # Assuming 'model_rf' is your trained Random Forest model\n",
        "    \"XGBoost\": model_xgb,          # Assuming 'model_xgb' is your trained XGBoost model\n",
        "    \"Naive Bayes\": model_nb        # Assuming 'model_nb' is your trained Naive Bayes model\n",
        "}\n",
        "\n",
        "data = []\n",
        "for model_name, model in models.items():\n",
        "    y_pred = model.predict(X_test)  # Assuming 'X_test' is your test data\n",
        "    accuracy = accuracy_score(y_test, y_pred)  # Assuming 'y_test' is your test labels\n",
        "    recall = recall_score(y_test, y_pred, average='macro')  # Macro average for recall\n",
        "    precision = precision_score(y_test, y_pred, average='macro', zero_division=1) # Macro average for precision (handle zero division)\n",
        "    f1 = f1_score(y_test, y_pred, average='macro')  # Macro average for F1-score\n",
        "    data.append([model_name, accuracy, recall, precision, f1])\n",
        "\n",
        "# Create a Pandas DataFrame for the table\n",
        "df_scores = pd.DataFrame(data, columns=[\"Model\", \"Accuracy\", \"Recall (macro avg)\", \"Precision (macro avg)\", \"F1-Score (macro avg)\"])\n",
        "\n",
        "# Display the table\n",
        "display(df_scores)"
      ],
      "metadata": {
        "colab": {
          "base_uri": "https://localhost:8080/",
          "height": 206
        },
        "id": "hfbvdjHE7309",
        "outputId": "76d3cf86-42a7-4677-dd25-4fab0449cf2e"
      },
      "execution_count": 38,
      "outputs": [
        {
          "output_type": "display_data",
          "data": {
            "text/plain": [
              "                 Model  Accuracy  Recall (macro avg)  Precision (macro avg)  \\\n",
              "0  Logistic Regression  0.882386            0.683422               0.925610   \n",
              "1        Decision Tree  0.860543            0.712571               0.778899   \n",
              "2        Random Forest  0.856623            0.706626               0.770124   \n",
              "3              XGBoost  0.878465            0.706419               0.851928   \n",
              "4          Naive Bayes  0.468776            0.625589               0.584974   \n",
              "\n",
              "   F1-Score (macro avg)  \n",
              "0              0.734034  \n",
              "1              0.737474  \n",
              "2              0.730482  \n",
              "3              0.748511  \n",
              "4              0.456903  "
            ],
            "text/html": [
              "\n",
              "  <div id=\"df-f4559647-f818-457e-9749-a6da07a01e21\" class=\"colab-df-container\">\n",
              "    <div>\n",
              "<style scoped>\n",
              "    .dataframe tbody tr th:only-of-type {\n",
              "        vertical-align: middle;\n",
              "    }\n",
              "\n",
              "    .dataframe tbody tr th {\n",
              "        vertical-align: top;\n",
              "    }\n",
              "\n",
              "    .dataframe thead th {\n",
              "        text-align: right;\n",
              "    }\n",
              "</style>\n",
              "<table border=\"1\" class=\"dataframe\">\n",
              "  <thead>\n",
              "    <tr style=\"text-align: right;\">\n",
              "      <th></th>\n",
              "      <th>Model</th>\n",
              "      <th>Accuracy</th>\n",
              "      <th>Recall (macro avg)</th>\n",
              "      <th>Precision (macro avg)</th>\n",
              "      <th>F1-Score (macro avg)</th>\n",
              "    </tr>\n",
              "  </thead>\n",
              "  <tbody>\n",
              "    <tr>\n",
              "      <th>0</th>\n",
              "      <td>Logistic Regression</td>\n",
              "      <td>0.882386</td>\n",
              "      <td>0.683422</td>\n",
              "      <td>0.925610</td>\n",
              "      <td>0.734034</td>\n",
              "    </tr>\n",
              "    <tr>\n",
              "      <th>1</th>\n",
              "      <td>Decision Tree</td>\n",
              "      <td>0.860543</td>\n",
              "      <td>0.712571</td>\n",
              "      <td>0.778899</td>\n",
              "      <td>0.737474</td>\n",
              "    </tr>\n",
              "    <tr>\n",
              "      <th>2</th>\n",
              "      <td>Random Forest</td>\n",
              "      <td>0.856623</td>\n",
              "      <td>0.706626</td>\n",
              "      <td>0.770124</td>\n",
              "      <td>0.730482</td>\n",
              "    </tr>\n",
              "    <tr>\n",
              "      <th>3</th>\n",
              "      <td>XGBoost</td>\n",
              "      <td>0.878465</td>\n",
              "      <td>0.706419</td>\n",
              "      <td>0.851928</td>\n",
              "      <td>0.748511</td>\n",
              "    </tr>\n",
              "    <tr>\n",
              "      <th>4</th>\n",
              "      <td>Naive Bayes</td>\n",
              "      <td>0.468776</td>\n",
              "      <td>0.625589</td>\n",
              "      <td>0.584974</td>\n",
              "      <td>0.456903</td>\n",
              "    </tr>\n",
              "  </tbody>\n",
              "</table>\n",
              "</div>\n",
              "    <div class=\"colab-df-buttons\">\n",
              "\n",
              "  <div class=\"colab-df-container\">\n",
              "    <button class=\"colab-df-convert\" onclick=\"convertToInteractive('df-f4559647-f818-457e-9749-a6da07a01e21')\"\n",
              "            title=\"Convert this dataframe to an interactive table.\"\n",
              "            style=\"display:none;\">\n",
              "\n",
              "  <svg xmlns=\"http://www.w3.org/2000/svg\" height=\"24px\" viewBox=\"0 -960 960 960\">\n",
              "    <path d=\"M120-120v-720h720v720H120Zm60-500h600v-160H180v160Zm220 220h160v-160H400v160Zm0 220h160v-160H400v160ZM180-400h160v-160H180v160Zm440 0h160v-160H620v160ZM180-180h160v-160H180v160Zm440 0h160v-160H620v160Z\"/>\n",
              "  </svg>\n",
              "    </button>\n",
              "\n",
              "  <style>\n",
              "    .colab-df-container {\n",
              "      display:flex;\n",
              "      gap: 12px;\n",
              "    }\n",
              "\n",
              "    .colab-df-convert {\n",
              "      background-color: #E8F0FE;\n",
              "      border: none;\n",
              "      border-radius: 50%;\n",
              "      cursor: pointer;\n",
              "      display: none;\n",
              "      fill: #1967D2;\n",
              "      height: 32px;\n",
              "      padding: 0 0 0 0;\n",
              "      width: 32px;\n",
              "    }\n",
              "\n",
              "    .colab-df-convert:hover {\n",
              "      background-color: #E2EBFA;\n",
              "      box-shadow: 0px 1px 2px rgba(60, 64, 67, 0.3), 0px 1px 3px 1px rgba(60, 64, 67, 0.15);\n",
              "      fill: #174EA6;\n",
              "    }\n",
              "\n",
              "    .colab-df-buttons div {\n",
              "      margin-bottom: 4px;\n",
              "    }\n",
              "\n",
              "    [theme=dark] .colab-df-convert {\n",
              "      background-color: #3B4455;\n",
              "      fill: #D2E3FC;\n",
              "    }\n",
              "\n",
              "    [theme=dark] .colab-df-convert:hover {\n",
              "      background-color: #434B5C;\n",
              "      box-shadow: 0px 1px 3px 1px rgba(0, 0, 0, 0.15);\n",
              "      filter: drop-shadow(0px 1px 2px rgba(0, 0, 0, 0.3));\n",
              "      fill: #FFFFFF;\n",
              "    }\n",
              "  </style>\n",
              "\n",
              "    <script>\n",
              "      const buttonEl =\n",
              "        document.querySelector('#df-f4559647-f818-457e-9749-a6da07a01e21 button.colab-df-convert');\n",
              "      buttonEl.style.display =\n",
              "        google.colab.kernel.accessAllowed ? 'block' : 'none';\n",
              "\n",
              "      async function convertToInteractive(key) {\n",
              "        const element = document.querySelector('#df-f4559647-f818-457e-9749-a6da07a01e21');\n",
              "        const dataTable =\n",
              "          await google.colab.kernel.invokeFunction('convertToInteractive',\n",
              "                                                    [key], {});\n",
              "        if (!dataTable) return;\n",
              "\n",
              "        const docLinkHtml = 'Like what you see? Visit the ' +\n",
              "          '<a target=\"_blank\" href=https://colab.research.google.com/notebooks/data_table.ipynb>data table notebook</a>'\n",
              "          + ' to learn more about interactive tables.';\n",
              "        element.innerHTML = '';\n",
              "        dataTable['output_type'] = 'display_data';\n",
              "        await google.colab.output.renderOutput(dataTable, element);\n",
              "        const docLink = document.createElement('div');\n",
              "        docLink.innerHTML = docLinkHtml;\n",
              "        element.appendChild(docLink);\n",
              "      }\n",
              "    </script>\n",
              "  </div>\n",
              "\n",
              "\n",
              "<div id=\"df-07f8975a-8281-4982-b8a6-50949e47f3e7\">\n",
              "  <button class=\"colab-df-quickchart\" onclick=\"quickchart('df-07f8975a-8281-4982-b8a6-50949e47f3e7')\"\n",
              "            title=\"Suggest charts\"\n",
              "            style=\"display:none;\">\n",
              "\n",
              "<svg xmlns=\"http://www.w3.org/2000/svg\" height=\"24px\"viewBox=\"0 0 24 24\"\n",
              "     width=\"24px\">\n",
              "    <g>\n",
              "        <path d=\"M19 3H5c-1.1 0-2 .9-2 2v14c0 1.1.9 2 2 2h14c1.1 0 2-.9 2-2V5c0-1.1-.9-2-2-2zM9 17H7v-7h2v7zm4 0h-2V7h2v10zm4 0h-2v-4h2v4z\"/>\n",
              "    </g>\n",
              "</svg>\n",
              "  </button>\n",
              "\n",
              "<style>\n",
              "  .colab-df-quickchart {\n",
              "      --bg-color: #E8F0FE;\n",
              "      --fill-color: #1967D2;\n",
              "      --hover-bg-color: #E2EBFA;\n",
              "      --hover-fill-color: #174EA6;\n",
              "      --disabled-fill-color: #AAA;\n",
              "      --disabled-bg-color: #DDD;\n",
              "  }\n",
              "\n",
              "  [theme=dark] .colab-df-quickchart {\n",
              "      --bg-color: #3B4455;\n",
              "      --fill-color: #D2E3FC;\n",
              "      --hover-bg-color: #434B5C;\n",
              "      --hover-fill-color: #FFFFFF;\n",
              "      --disabled-bg-color: #3B4455;\n",
              "      --disabled-fill-color: #666;\n",
              "  }\n",
              "\n",
              "  .colab-df-quickchart {\n",
              "    background-color: var(--bg-color);\n",
              "    border: none;\n",
              "    border-radius: 50%;\n",
              "    cursor: pointer;\n",
              "    display: none;\n",
              "    fill: var(--fill-color);\n",
              "    height: 32px;\n",
              "    padding: 0;\n",
              "    width: 32px;\n",
              "  }\n",
              "\n",
              "  .colab-df-quickchart:hover {\n",
              "    background-color: var(--hover-bg-color);\n",
              "    box-shadow: 0 1px 2px rgba(60, 64, 67, 0.3), 0 1px 3px 1px rgba(60, 64, 67, 0.15);\n",
              "    fill: var(--button-hover-fill-color);\n",
              "  }\n",
              "\n",
              "  .colab-df-quickchart-complete:disabled,\n",
              "  .colab-df-quickchart-complete:disabled:hover {\n",
              "    background-color: var(--disabled-bg-color);\n",
              "    fill: var(--disabled-fill-color);\n",
              "    box-shadow: none;\n",
              "  }\n",
              "\n",
              "  .colab-df-spinner {\n",
              "    border: 2px solid var(--fill-color);\n",
              "    border-color: transparent;\n",
              "    border-bottom-color: var(--fill-color);\n",
              "    animation:\n",
              "      spin 1s steps(1) infinite;\n",
              "  }\n",
              "\n",
              "  @keyframes spin {\n",
              "    0% {\n",
              "      border-color: transparent;\n",
              "      border-bottom-color: var(--fill-color);\n",
              "      border-left-color: var(--fill-color);\n",
              "    }\n",
              "    20% {\n",
              "      border-color: transparent;\n",
              "      border-left-color: var(--fill-color);\n",
              "      border-top-color: var(--fill-color);\n",
              "    }\n",
              "    30% {\n",
              "      border-color: transparent;\n",
              "      border-left-color: var(--fill-color);\n",
              "      border-top-color: var(--fill-color);\n",
              "      border-right-color: var(--fill-color);\n",
              "    }\n",
              "    40% {\n",
              "      border-color: transparent;\n",
              "      border-right-color: var(--fill-color);\n",
              "      border-top-color: var(--fill-color);\n",
              "    }\n",
              "    60% {\n",
              "      border-color: transparent;\n",
              "      border-right-color: var(--fill-color);\n",
              "    }\n",
              "    80% {\n",
              "      border-color: transparent;\n",
              "      border-right-color: var(--fill-color);\n",
              "      border-bottom-color: var(--fill-color);\n",
              "    }\n",
              "    90% {\n",
              "      border-color: transparent;\n",
              "      border-bottom-color: var(--fill-color);\n",
              "    }\n",
              "  }\n",
              "</style>\n",
              "\n",
              "  <script>\n",
              "    async function quickchart(key) {\n",
              "      const quickchartButtonEl =\n",
              "        document.querySelector('#' + key + ' button');\n",
              "      quickchartButtonEl.disabled = true;  // To prevent multiple clicks.\n",
              "      quickchartButtonEl.classList.add('colab-df-spinner');\n",
              "      try {\n",
              "        const charts = await google.colab.kernel.invokeFunction(\n",
              "            'suggestCharts', [key], {});\n",
              "      } catch (error) {\n",
              "        console.error('Error during call to suggestCharts:', error);\n",
              "      }\n",
              "      quickchartButtonEl.classList.remove('colab-df-spinner');\n",
              "      quickchartButtonEl.classList.add('colab-df-quickchart-complete');\n",
              "    }\n",
              "    (() => {\n",
              "      let quickchartButtonEl =\n",
              "        document.querySelector('#df-07f8975a-8281-4982-b8a6-50949e47f3e7 button');\n",
              "      quickchartButtonEl.style.display =\n",
              "        google.colab.kernel.accessAllowed ? 'block' : 'none';\n",
              "    })();\n",
              "  </script>\n",
              "</div>\n",
              "\n",
              "  <div id=\"id_ce9a43ba-3819-463e-ae24-3ed572c03263\">\n",
              "    <style>\n",
              "      .colab-df-generate {\n",
              "        background-color: #E8F0FE;\n",
              "        border: none;\n",
              "        border-radius: 50%;\n",
              "        cursor: pointer;\n",
              "        display: none;\n",
              "        fill: #1967D2;\n",
              "        height: 32px;\n",
              "        padding: 0 0 0 0;\n",
              "        width: 32px;\n",
              "      }\n",
              "\n",
              "      .colab-df-generate:hover {\n",
              "        background-color: #E2EBFA;\n",
              "        box-shadow: 0px 1px 2px rgba(60, 64, 67, 0.3), 0px 1px 3px 1px rgba(60, 64, 67, 0.15);\n",
              "        fill: #174EA6;\n",
              "      }\n",
              "\n",
              "      [theme=dark] .colab-df-generate {\n",
              "        background-color: #3B4455;\n",
              "        fill: #D2E3FC;\n",
              "      }\n",
              "\n",
              "      [theme=dark] .colab-df-generate:hover {\n",
              "        background-color: #434B5C;\n",
              "        box-shadow: 0px 1px 3px 1px rgba(0, 0, 0, 0.15);\n",
              "        filter: drop-shadow(0px 1px 2px rgba(0, 0, 0, 0.3));\n",
              "        fill: #FFFFFF;\n",
              "      }\n",
              "    </style>\n",
              "    <button class=\"colab-df-generate\" onclick=\"generateWithVariable('df_scores')\"\n",
              "            title=\"Generate code using this dataframe.\"\n",
              "            style=\"display:none;\">\n",
              "\n",
              "  <svg xmlns=\"http://www.w3.org/2000/svg\" height=\"24px\"viewBox=\"0 0 24 24\"\n",
              "       width=\"24px\">\n",
              "    <path d=\"M7,19H8.4L18.45,9,17,7.55,7,17.6ZM5,21V16.75L18.45,3.32a2,2,0,0,1,2.83,0l1.4,1.43a1.91,1.91,0,0,1,.58,1.4,1.91,1.91,0,0,1-.58,1.4L9.25,21ZM18.45,9,17,7.55Zm-12,3A5.31,5.31,0,0,0,4.9,8.1,5.31,5.31,0,0,0,1,6.5,5.31,5.31,0,0,0,4.9,4.9,5.31,5.31,0,0,0,6.5,1,5.31,5.31,0,0,0,8.1,4.9,5.31,5.31,0,0,0,12,6.5,5.46,5.46,0,0,0,6.5,12Z\"/>\n",
              "  </svg>\n",
              "    </button>\n",
              "    <script>\n",
              "      (() => {\n",
              "      const buttonEl =\n",
              "        document.querySelector('#id_ce9a43ba-3819-463e-ae24-3ed572c03263 button.colab-df-generate');\n",
              "      buttonEl.style.display =\n",
              "        google.colab.kernel.accessAllowed ? 'block' : 'none';\n",
              "\n",
              "      buttonEl.onclick = () => {\n",
              "        google.colab.notebook.generateWithVariable('df_scores');\n",
              "      }\n",
              "      })();\n",
              "    </script>\n",
              "  </div>\n",
              "\n",
              "    </div>\n",
              "  </div>\n"
            ],
            "application/vnd.google.colaboratory.intrinsic+json": {
              "type": "dataframe",
              "variable_name": "df_scores",
              "summary": "{\n  \"name\": \"df_scores\",\n  \"rows\": 5,\n  \"fields\": [\n    {\n      \"column\": \"Model\",\n      \"properties\": {\n        \"dtype\": \"string\",\n        \"num_unique_values\": 5,\n        \"samples\": [\n          \"Decision Tree\",\n          \"Naive Bayes\",\n          \"Random Forest\"\n        ],\n        \"semantic_type\": \"\",\n        \"description\": \"\"\n      }\n    },\n    {\n      \"column\": \"Accuracy\",\n      \"properties\": {\n        \"dtype\": \"number\",\n        \"std\": 0.1795542189645222,\n        \"min\": 0.468776253150378,\n        \"max\": 0.8823858863063567,\n        \"num_unique_values\": 5,\n        \"samples\": [\n          0.860543265191823,\n          0.468776253150378,\n          0.8566227947353683\n        ],\n        \"semantic_type\": \"\",\n        \"description\": \"\"\n      }\n    },\n    {\n      \"column\": \"Recall (macro avg)\",\n      \"properties\": {\n        \"dtype\": \"number\",\n        \"std\": 0.03605656305327557,\n        \"min\": 0.6255885767476886,\n        \"max\": 0.7125711207798184,\n        \"num_unique_values\": 5,\n        \"samples\": [\n          0.7125711207798184,\n          0.6255885767476886,\n          0.7066257373551437\n        ],\n        \"semantic_type\": \"\",\n        \"description\": \"\"\n      }\n    },\n    {\n      \"column\": \"Precision (macro avg)\",\n      \"properties\": {\n        \"dtype\": \"number\",\n        \"std\": 0.12696750863838635,\n        \"min\": 0.5849744604784928,\n        \"max\": 0.9256101171696776,\n        \"num_unique_values\": 5,\n        \"samples\": [\n          0.7788990510953913,\n          0.5849744604784928,\n          0.7701240422006006\n        ],\n        \"semantic_type\": \"\",\n        \"description\": \"\"\n      }\n    },\n    {\n      \"column\": \"F1-Score (macro avg)\",\n      \"properties\": {\n        \"dtype\": \"number\",\n        \"std\": 0.12572431646706803,\n        \"min\": 0.4569031168042156,\n        \"max\": 0.748511006479134,\n        \"num_unique_values\": 5,\n        \"samples\": [\n          0.7374736050224859,\n          0.4569031168042156,\n          0.7304823025234264\n        ],\n        \"semantic_type\": \"\",\n        \"description\": \"\"\n      }\n    }\n  ]\n}"
            }
          },
          "metadata": {}
        }
      ]
    },
    {
      "cell_type": "code",
      "execution_count": 39,
      "metadata": {
        "id": "r0pPxxldHUk9"
      },
      "outputs": [],
      "source": [
        "X1_temp = df.iloc[:, 2:32]\n",
        "X2_temp = df.iloc[:, 45:60]\n",
        "y_temp = df.iloc[:, 1]\n",
        "temp = pd.concat([X1_temp - 1, X2_temp - 1, y_temp], axis=1)"
      ]
    },
    {
      "cell_type": "code",
      "execution_count": 40,
      "metadata": {
        "id": "ZEzyOWP6AuNC",
        "colab": {
          "base_uri": "https://localhost:8080/"
        },
        "outputId": "36afce87-aa67-4ea2-c49d-29df45833fe5"
      },
      "outputs": [
        {
          "output_type": "stream",
          "name": "stdout",
          "text": [
            "SHORT_TERM_COUNT                   0\n",
            "MID_TERM_COUNT                     0\n",
            "LONG_TERM_COUNT                    0\n",
            "SHORT_TERM_COUNT_BANK              4\n",
            "MID_TERM_COUNT_BANK                2\n",
            "LONG_TERM_COUNT_BANK               4\n",
            "SHORT_TERM_COUNT_NON_BANK          4\n",
            "MID_TERM_COUNT_NON_BANK            2\n",
            "LONG_TERM_COUNT_NON_BANK           4\n",
            "NUMBER_OF_LOANS                    0\n",
            "NUMBER_OF_LOANS_BANK               0\n",
            "NUMBER_OF_LOANS_NON_BANK           0\n",
            "NUMBER_OF_CREDIT_CARDS             0\n",
            "NUMBER_OF_CREDIT_CARDS_BANK        2\n",
            "NUMBER_OF_CREDIT_CARDS_NON_BANK    2\n",
            "NUMBER_OF_RELATIONSHIP             0\n",
            "NUMBER_OF_RELATIONSHIP_BANK        2\n",
            "NUMBER_OF_RELATIONSHIP_NON_BANK    2\n",
            "NUM_NEW_LOAN_TAKEN_3M              0\n",
            "NUM_NEW_LOAN_TAKEN_6M              0\n",
            "NUM_NEW_LOAN_TAKEN_9M              0\n",
            "NUM_NEW_LOAN_TAKEN_12M             0\n",
            "NUM_NEW_LOAN_TAKEN_BANK_3M         0\n",
            "NUM_NEW_LOAN_TAKEN_BANK_6M         0\n",
            "NUM_NEW_LOAN_TAKEN_BANK_9M         0\n",
            "NUM_NEW_LOAN_TAKEN_BANK_12M        0\n",
            "NUM_NEW_LOAN_TAKEN_NON_BANK_3M     0\n",
            "NUM_NEW_LOAN_TAKEN_NON_BANK_6M     0\n",
            "NUM_NEW_LOAN_TAKEN_NON_BANK_9M     0\n",
            "NUM_NEW_LOAN_TAKEN_NON_BANK_12M    0\n",
            "OUTSTANDING_BAL_LOAN_3M_6M         5\n",
            "OUTSTANDING_BAL_LOAN_6M_9M         5\n",
            "OUTSTANDING_BAL_LOAN_9M_12M        3\n",
            "OUTSTANDING_BAL_LOAN_6M_12M        1\n",
            "OUTSTANDING_BAL_LOAN_3M_12M        4\n",
            "OUTSTANDING_BAL_CC_3M_6M           3\n",
            "OUTSTANDING_BAL_CC_6M_9M           0\n",
            "OUTSTANDING_BAL_CC_9M_12M          0\n",
            "OUTSTANDING_BAL_CC_6M_12M          0\n",
            "OUTSTANDING_BAL_CC_3M_12M          4\n",
            "OUTSTANDING_BAL_ALL_3M_6M          0\n",
            "OUTSTANDING_BAL_ALL_6M_9M          0\n",
            "OUTSTANDING_BAL_ALL_9M_12M         0\n",
            "OUTSTANDING_BAL_ALL_6M_12M         0\n",
            "OUTSTANDING_BAL_ALL_3M_12M         0\n",
            "label                              0\n",
            "dtype: int64\n"
          ]
        }
      ],
      "source": [
        "print(temp.isnull().sum())"
      ]
    },
    {
      "cell_type": "code",
      "source": [
        "temp.dropna(inplace=True)\n",
        "print(temp.isnull().sum())"
      ],
      "metadata": {
        "colab": {
          "base_uri": "https://localhost:8080/"
        },
        "id": "zi-2wJ3DlC4c",
        "outputId": "158148f0-24a8-4609-cd7c-c0e2051d0f79"
      },
      "execution_count": 41,
      "outputs": [
        {
          "output_type": "stream",
          "name": "stdout",
          "text": [
            "SHORT_TERM_COUNT                   0\n",
            "MID_TERM_COUNT                     0\n",
            "LONG_TERM_COUNT                    0\n",
            "SHORT_TERM_COUNT_BANK              0\n",
            "MID_TERM_COUNT_BANK                0\n",
            "LONG_TERM_COUNT_BANK               0\n",
            "SHORT_TERM_COUNT_NON_BANK          0\n",
            "MID_TERM_COUNT_NON_BANK            0\n",
            "LONG_TERM_COUNT_NON_BANK           0\n",
            "NUMBER_OF_LOANS                    0\n",
            "NUMBER_OF_LOANS_BANK               0\n",
            "NUMBER_OF_LOANS_NON_BANK           0\n",
            "NUMBER_OF_CREDIT_CARDS             0\n",
            "NUMBER_OF_CREDIT_CARDS_BANK        0\n",
            "NUMBER_OF_CREDIT_CARDS_NON_BANK    0\n",
            "NUMBER_OF_RELATIONSHIP             0\n",
            "NUMBER_OF_RELATIONSHIP_BANK        0\n",
            "NUMBER_OF_RELATIONSHIP_NON_BANK    0\n",
            "NUM_NEW_LOAN_TAKEN_3M              0\n",
            "NUM_NEW_LOAN_TAKEN_6M              0\n",
            "NUM_NEW_LOAN_TAKEN_9M              0\n",
            "NUM_NEW_LOAN_TAKEN_12M             0\n",
            "NUM_NEW_LOAN_TAKEN_BANK_3M         0\n",
            "NUM_NEW_LOAN_TAKEN_BANK_6M         0\n",
            "NUM_NEW_LOAN_TAKEN_BANK_9M         0\n",
            "NUM_NEW_LOAN_TAKEN_BANK_12M        0\n",
            "NUM_NEW_LOAN_TAKEN_NON_BANK_3M     0\n",
            "NUM_NEW_LOAN_TAKEN_NON_BANK_6M     0\n",
            "NUM_NEW_LOAN_TAKEN_NON_BANK_9M     0\n",
            "NUM_NEW_LOAN_TAKEN_NON_BANK_12M    0\n",
            "OUTSTANDING_BAL_LOAN_3M_6M         0\n",
            "OUTSTANDING_BAL_LOAN_6M_9M         0\n",
            "OUTSTANDING_BAL_LOAN_9M_12M        0\n",
            "OUTSTANDING_BAL_LOAN_6M_12M        0\n",
            "OUTSTANDING_BAL_LOAN_3M_12M        0\n",
            "OUTSTANDING_BAL_CC_3M_6M           0\n",
            "OUTSTANDING_BAL_CC_6M_9M           0\n",
            "OUTSTANDING_BAL_CC_9M_12M          0\n",
            "OUTSTANDING_BAL_CC_6M_12M          0\n",
            "OUTSTANDING_BAL_CC_3M_12M          0\n",
            "OUTSTANDING_BAL_ALL_3M_6M          0\n",
            "OUTSTANDING_BAL_ALL_6M_9M          0\n",
            "OUTSTANDING_BAL_ALL_9M_12M         0\n",
            "OUTSTANDING_BAL_ALL_6M_12M         0\n",
            "OUTSTANDING_BAL_ALL_3M_12M         0\n",
            "label                              0\n",
            "dtype: int64\n"
          ]
        }
      ]
    },
    {
      "cell_type": "code",
      "execution_count": 42,
      "metadata": {
        "id": "4MjJjLy6AuPI"
      },
      "outputs": [],
      "source": [
        "temp.to_csv('temp.csv', index=False)"
      ]
    }
  ],
  "metadata": {
    "colab": {
      "gpuType": "T4",
      "provenance": []
    },
    "kernelspec": {
      "display_name": "Python 3",
      "name": "python3"
    },
    "language_info": {
      "codemirror_mode": {
        "name": "ipython",
        "version": 3
      },
      "file_extension": ".py",
      "mimetype": "text/x-python",
      "name": "python",
      "nbconvert_exporter": "python",
      "pygments_lexer": "ipython3",
      "version": "3.12.4"
    }
  },
  "nbformat": 4,
  "nbformat_minor": 0
}