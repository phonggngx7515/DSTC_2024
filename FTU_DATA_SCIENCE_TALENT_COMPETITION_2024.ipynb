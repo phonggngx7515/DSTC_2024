{
 "cells": [
  {
   "cell_type": "code",
   "execution_count": 1,
   "metadata": {},
   "outputs": [],
   "source": [
    "import numpy as np\n",
    "import pandas as pd\n",
    "import matplotlib as plt\n",
    "import seaborn as sns"
   ]
  },
  {
   "cell_type": "code",
   "execution_count": 2,
   "metadata": {},
   "outputs": [],
   "source": [
    "# pd.set_option('future.no_silent_downcasting', True)"
   ]
  },
  {
   "cell_type": "code",
   "execution_count": 3,
   "metadata": {},
   "outputs": [],
   "source": [
    "df_behavior = pd.read_csv(r\"D:\\BAO PHONG\\HUST\\MACHINE LEARNING (ML)\\DATASET\\03_Customer_Behavior_Data_THPT.csv\")\n",
    "df_item_info = pd.read_csv(r\"D:\\BAO PHONG\\HUST\\MACHINE LEARNING (ML)\\DATASET\\03_Item_information_Data_THPT.csv\")\n",
    "df_shelf_info = pd.read_csv(r\"D:\\BAO PHONG\\HUST\\MACHINE LEARNING (ML)\\DATASET\\03_Shelf_Information_Data_THPT.csv\")"
   ]
  },
  {
   "cell_type": "code",
   "execution_count": 4,
   "metadata": {},
   "outputs": [
    {
     "name": "stdout",
     "output_type": "stream",
     "text": [
      "   Shelf ID  Person ID        Date      Time       Day  Age  Gender  Height  \\\n",
      "0         4          1  2024-07-06  10:00:00  Saturday   52  Female     162   \n",
      "1         4          1  2024-07-06  10:02:00  Saturday   52  Female     162   \n",
      "2         4          1  2024-07-06  10:05:00  Saturday   52  Female     162   \n",
      "3         4          1  2024-07-06  10:06:00  Saturday   52  Female     162   \n",
      "4         4          1  2024-07-06  10:08:00  Saturday   52  Female     162   \n",
      "\n",
      "   Weight Married status  Item ID  Looking at item (s)  Holding the item (s)  \\\n",
      "0      41        Married       16                   27                    36   \n",
      "1      41        Married        5                   22                    17   \n",
      "2      41        Married        4                   25                    39   \n",
      "3      41        Married        8                   21                    35   \n",
      "4      41        Married        6                   27                    16   \n",
      "\n",
      "   Holding the bag  Picking up item  Returning item Putting item into bag  \\\n",
      "0             True             True           False                 False   \n",
      "1             True             True           False                  True   \n",
      "2             True             True            True                  True   \n",
      "3             True             True            True                 False   \n",
      "4             True             True           False                 False   \n",
      "\n",
      "  Taking item out of bag Putting item into bag in the 2nd time  \n",
      "0                  False                                  True  \n",
      "1                   True                                  True  \n",
      "2                   True                                 False  \n",
      "3                  False                                 False  \n",
      "4                  False                                  True  \n",
      "\n",
      "    Shelf ID  Item ID                       Name    Origin     Price  \\\n",
      "0         0        0                  Bánh Oreo   Vietnam  17,500 ₫   \n",
      "1         0        1              Bánh Chocopie   Vietnam  48,000 ₫   \n",
      "2         0        2  Kẹo cao su Cool Air Fresh   Vietnam  40,000 ₫   \n",
      "3         0        3   Bánh mỳ chà bông Kinh đô   Vietnam  13,400 ₫   \n",
      "4         0        4         Bánh trứng Custard  Thái Lan  17,000 ₫   \n",
      "\n",
      "   Marketing strategy  Discount   Rate  \n",
      "0               False         10     4  \n",
      "1               False          0     3  \n",
      "2               False          0     3  \n",
      "3               False          0     3  \n",
      "4                True         10     4  \n",
      "\n",
      "    Shelf ID       Description  Width  Height  Length  Number of items  \\\n",
      "0         0     Quầy bánh kẹo    300     180     300               13   \n",
      "1         1  Quầy hoá mỹ phẩm    100     180     400               18   \n",
      "2         2          Quầy sữa    100     180     600                9   \n",
      "3         3    Quầy thực phẩm    100     180     600               25   \n",
      "4         4       Quầy gia vị    500     180     100               19   \n",
      "\n",
      "       Shape  \n",
      "0  Quầy tròn  \n",
      "1    Kệ hàng  \n",
      "2    Kệ hàng  \n",
      "3    Kệ hàng  \n",
      "4    Kệ hàng  \n"
     ]
    }
   ],
   "source": [
    "print(df_behavior.head())\n",
    "print('\\n', df_item_info.head())\n",
    "print('\\n', df_shelf_info.head())"
   ]
  },
  {
   "cell_type": "code",
   "execution_count": 5,
   "metadata": {},
   "outputs": [
    {
     "name": "stdout",
     "output_type": "stream",
     "text": [
      "<class 'pandas.core.frame.DataFrame'>\n",
      "RangeIndex: 15394 entries, 0 to 15393\n",
      "Data columns (total 19 columns):\n",
      " #   Column                                 Non-Null Count  Dtype \n",
      "---  ------                                 --------------  ----- \n",
      " 0   Shelf ID                               15394 non-null  int64 \n",
      " 1   Person ID                              15394 non-null  int64 \n",
      " 2   Date                                   15394 non-null  object\n",
      " 3   Time                                   15394 non-null  object\n",
      " 4   Day                                    15394 non-null  object\n",
      " 5   Age                                    15394 non-null  int64 \n",
      " 6   Gender                                 15394 non-null  object\n",
      " 7   Height                                 15394 non-null  int64 \n",
      " 8   Weight                                 15394 non-null  int64 \n",
      " 9   Married status                         15394 non-null  object\n",
      " 10  Item ID                                15394 non-null  int64 \n",
      " 11  Looking at item (s)                    15394 non-null  int64 \n",
      " 12  Holding the item (s)                   15394 non-null  int64 \n",
      " 13  Holding the bag                        15394 non-null  bool  \n",
      " 14  Picking up item                        15394 non-null  bool  \n",
      " 15  Returning item                         15394 non-null  bool  \n",
      " 16  Putting item into bag                  14056 non-null  object\n",
      " 17  Taking item out of bag                 13452 non-null  object\n",
      " 18  Putting item into bag in the 2nd time  12723 non-null  object\n",
      "dtypes: bool(3), int64(8), object(8)\n",
      "memory usage: 1.9+ MB\n",
      "None\n",
      "<class 'pandas.core.frame.DataFrame'>\n",
      "RangeIndex: 134 entries, 0 to 133\n",
      "Data columns (total 8 columns):\n",
      " #   Column              Non-Null Count  Dtype \n",
      "---  ------              --------------  ----- \n",
      " 0   Shelf ID            134 non-null    int64 \n",
      " 1   Item ID             134 non-null    int64 \n",
      " 2   Name                134 non-null    object\n",
      " 3   Origin              134 non-null    object\n",
      " 4   Price               134 non-null    object\n",
      " 5   Marketing strategy  134 non-null    bool  \n",
      " 6   Discount            134 non-null    int64 \n",
      " 7   Rate                134 non-null    int64 \n",
      "dtypes: bool(1), int64(4), object(3)\n",
      "memory usage: 7.6+ KB\n",
      "\n",
      " None\n",
      "<class 'pandas.core.frame.DataFrame'>\n",
      "RangeIndex: 8 entries, 0 to 7\n",
      "Data columns (total 7 columns):\n",
      " #   Column           Non-Null Count  Dtype \n",
      "---  ------           --------------  ----- \n",
      " 0   Shelf ID         8 non-null      int64 \n",
      " 1   Description      8 non-null      object\n",
      " 2   Width            8 non-null      int64 \n",
      " 3   Height           8 non-null      int64 \n",
      " 4   Length           8 non-null      int64 \n",
      " 5   Number of items  8 non-null      int64 \n",
      " 6   Shape            8 non-null      object\n",
      "dtypes: int64(5), object(2)\n",
      "memory usage: 580.0+ bytes\n",
      "\n",
      " None\n"
     ]
    }
   ],
   "source": [
    "print(df_behavior.info())\n",
    "print('\\n', df_item_info.info())\n",
    "print('\\n', df_shelf_info.info())"
   ]
  },
  {
   "cell_type": "code",
   "execution_count": 6,
   "metadata": {},
   "outputs": [
    {
     "name": "stdout",
     "output_type": "stream",
     "text": [
      "           Shelf ID     Person ID           Age        Height        Weight  \\\n",
      "count  15394.000000  15394.000000  15394.000000  15394.000000  15394.000000   \n",
      "mean       3.316942    733.690984     46.198064    164.719826     60.015720   \n",
      "std        2.580487    429.865481     16.991954      9.880132     14.068385   \n",
      "min        0.000000      1.000000     18.000000    147.000000     40.000000   \n",
      "25%        1.000000    360.000000     31.000000    156.000000     48.000000   \n",
      "50%        3.000000    718.000000     45.000000    166.000000     57.000000   \n",
      "75%        6.000000   1105.000000     62.000000    174.000000     71.000000   \n",
      "max        7.000000   1500.000000     75.000000    179.000000     89.000000   \n",
      "\n",
      "            Item ID  Looking at item (s)  Holding the item (s)  \n",
      "count  15394.000000         15394.000000          15394.000000  \n",
      "mean       7.563206            28.699948             27.087502  \n",
      "std        5.190824            12.596675             10.249892  \n",
      "min        0.000000             0.000000              0.000000  \n",
      "25%        3.000000            20.000000             20.000000  \n",
      "50%        7.000000            27.000000             27.000000  \n",
      "75%       11.000000            35.000000             34.000000  \n",
      "max       24.000000            69.000000             59.000000  \n",
      "\n",
      "          Shelf ID     Item ID   Discount         Rate\n",
      "count  134.000000  134.000000  134.000000  134.000000\n",
      "mean     3.634328    8.440299    6.291045    3.791045\n",
      "std      2.202326    5.730162    8.736601    0.756671\n",
      "min      0.000000    0.000000    0.000000    3.000000\n",
      "25%      2.000000    4.000000    0.000000    3.000000\n",
      "50%      4.000000    8.000000    0.000000    4.000000\n",
      "75%      5.750000   12.750000   10.000000    4.000000\n",
      "max      7.000000   24.000000   30.000000    5.000000\n",
      "\n",
      "        Shelf ID       Width  Height      Length  Number of items\n",
      "count   8.00000    8.000000     8.0    8.000000           8.0000\n",
      "mean    3.50000  325.000000   180.0  350.000000          16.5000\n",
      "std     2.44949  271.240536     0.0  232.992949           4.6291\n",
      "min     0.00000  100.000000   180.0  100.000000           9.0000\n",
      "25%     1.75000  100.000000   180.0  100.000000          15.2500\n",
      "50%     3.50000  200.000000   180.0  350.000000          16.0000\n",
      "75%     5.25000  550.000000   180.0  600.000000          18.2500\n",
      "max     7.00000  700.000000   180.0  600.000000          25.0000\n"
     ]
    }
   ],
   "source": [
    "print(df_behavior.describe())\n",
    "print('\\n', df_item_info.describe())\n",
    "print('\\n', df_shelf_info.describe())"
   ]
  },
  {
   "cell_type": "markdown",
   "metadata": {},
   "source": [
    "Xử lí dữ liệu thô"
   ]
  },
  {
   "cell_type": "code",
   "execution_count": 7,
   "metadata": {},
   "outputs": [
    {
     "name": "stdout",
     "output_type": "stream",
     "text": [
      "Shelf ID                                    0\n",
      "Person ID                                   0\n",
      "Date                                        0\n",
      "Time                                        0\n",
      "Day                                         0\n",
      "Age                                         0\n",
      "Gender                                      0\n",
      "Height                                      0\n",
      "Weight                                      0\n",
      "Married status                              0\n",
      "Item ID                                     0\n",
      "Looking at item (s)                         0\n",
      "Holding the item (s)                        0\n",
      "Holding the bag                             0\n",
      "Picking up item                             0\n",
      "Returning item                              0\n",
      "Putting item into bag                    1338\n",
      "Taking item out of bag                   1942\n",
      "Putting item into bag in the 2nd time    2671\n",
      "dtype: int64\n"
     ]
    }
   ],
   "source": [
    "print(df_behavior.isnull().sum())"
   ]
  },
  {
   "cell_type": "code",
   "execution_count": 8,
   "metadata": {},
   "outputs": [
    {
     "name": "stderr",
     "output_type": "stream",
     "text": [
      "C:\\Users\\Admin\\AppData\\Local\\Temp\\ipykernel_11532\\1530225518.py:2: FutureWarning: Downcasting object dtype arrays on .fillna, .ffill, .bfill is deprecated and will change in a future version. Call result.infer_objects(copy=False) instead. To opt-in to the future behavior, set `pd.set_option('future.no_silent_downcasting', True)`\n",
      "  df_behavior = df_behavior.ffill().bfill()\n"
     ]
    }
   ],
   "source": [
    "df_behavior = df_behavior.infer_objects()  # Tự động chuyển đổi kiểu dữ liệu đối tượng\n",
    "df_behavior = df_behavior.ffill().bfill()"
   ]
  },
  {
   "cell_type": "code",
   "execution_count": 9,
   "metadata": {},
   "outputs": [
    {
     "name": "stdout",
     "output_type": "stream",
     "text": [
      "Shelf ID                                 0\n",
      "Person ID                                0\n",
      "Date                                     0\n",
      "Time                                     0\n",
      "Day                                      0\n",
      "Age                                      0\n",
      "Gender                                   0\n",
      "Height                                   0\n",
      "Weight                                   0\n",
      "Married status                           0\n",
      "Item ID                                  0\n",
      "Looking at item (s)                      0\n",
      "Holding the item (s)                     0\n",
      "Holding the bag                          0\n",
      "Picking up item                          0\n",
      "Returning item                           0\n",
      "Putting item into bag                    0\n",
      "Taking item out of bag                   0\n",
      "Putting item into bag in the 2nd time    0\n",
      "dtype: int64\n"
     ]
    }
   ],
   "source": [
    "print(df_behavior.isnull().sum())"
   ]
  },
  {
   "cell_type": "code",
   "execution_count": 10,
   "metadata": {},
   "outputs": [],
   "source": [
    "df_behavior = df_behavior[df_behavior[\"Looking at item (s)\"] > 0]"
   ]
  },
  {
   "cell_type": "code",
   "execution_count": 11,
   "metadata": {},
   "outputs": [],
   "source": [
    "df_behavior = df_behavior[~(~df_behavior[\"Picking up item\"] & df_behavior[\"Returning item\"])]"
   ]
  },
  {
   "cell_type": "code",
   "execution_count": 12,
   "metadata": {},
   "outputs": [],
   "source": [
    "df_behavior = df_behavior[~(~df_behavior[\"Returning item\"] & df_behavior[\"Putting item into bag in the 2nd time\"])]"
   ]
  },
  {
   "cell_type": "code",
   "execution_count": 13,
   "metadata": {},
   "outputs": [],
   "source": [
    "df_behavior = df_behavior[~(~df_behavior[\"Holding the bag\"] & df_behavior[\"Putting item into bag\"])]"
   ]
  },
  {
   "cell_type": "code",
   "execution_count": 14,
   "metadata": {},
   "outputs": [],
   "source": [
    "df_behavior = df_behavior[~(~df_behavior[\"Putting item into bag\"] & (df_behavior[\"Taking item out of bag\"] | df_behavior[\"Putting item into bag in the 2nd time\"]))]"
   ]
  },
  {
   "cell_type": "code",
   "execution_count": 15,
   "metadata": {},
   "outputs": [],
   "source": [
    "df_behavior = df_behavior[~(df_behavior[\"Putting item into bag\"] & ~df_behavior[\"Taking item out of bag\"] & df_behavior[\"Putting item into bag in the 2nd time\"])]"
   ]
  },
  {
   "cell_type": "code",
   "execution_count": 16,
   "metadata": {},
   "outputs": [],
   "source": [
    "df_behavior.reset_index(drop=True, inplace=True)"
   ]
  },
  {
   "cell_type": "code",
   "execution_count": 17,
   "metadata": {},
   "outputs": [
    {
     "name": "stdout",
     "output_type": "stream",
     "text": [
      "<class 'pandas.core.frame.DataFrame'>\n",
      "RangeIndex: 6526 entries, 0 to 6525\n",
      "Data columns (total 19 columns):\n",
      " #   Column                                 Non-Null Count  Dtype \n",
      "---  ------                                 --------------  ----- \n",
      " 0   Shelf ID                               6526 non-null   int64 \n",
      " 1   Person ID                              6526 non-null   int64 \n",
      " 2   Date                                   6526 non-null   object\n",
      " 3   Time                                   6526 non-null   object\n",
      " 4   Day                                    6526 non-null   object\n",
      " 5   Age                                    6526 non-null   int64 \n",
      " 6   Gender                                 6526 non-null   object\n",
      " 7   Height                                 6526 non-null   int64 \n",
      " 8   Weight                                 6526 non-null   int64 \n",
      " 9   Married status                         6526 non-null   object\n",
      " 10  Item ID                                6526 non-null   int64 \n",
      " 11  Looking at item (s)                    6526 non-null   int64 \n",
      " 12  Holding the item (s)                   6526 non-null   int64 \n",
      " 13  Holding the bag                        6526 non-null   bool  \n",
      " 14  Picking up item                        6526 non-null   bool  \n",
      " 15  Returning item                         6526 non-null   bool  \n",
      " 16  Putting item into bag                  6526 non-null   bool  \n",
      " 17  Taking item out of bag                 6526 non-null   bool  \n",
      " 18  Putting item into bag in the 2nd time  6526 non-null   bool  \n",
      "dtypes: bool(6), int64(8), object(5)\n",
      "memory usage: 701.2+ KB\n",
      "None\n"
     ]
    }
   ],
   "source": [
    "print(df_behavior.info())"
   ]
  },
  {
   "cell_type": "code",
   "execution_count": 18,
   "metadata": {},
   "outputs": [],
   "source": [
    "df_behavior[\"ID\"] = 100 * df_behavior[\"Shelf ID\"] + df_behavior[\"Item ID\"]\n",
    "df_item_info[\"ID\"] = 100 * df_item_info[\"Shelf ID\"] + df_item_info[\"Item ID\"]"
   ]
  },
  {
   "cell_type": "markdown",
   "metadata": {},
   "source": [
    "Câu 1: Thống kê 5 mặt hàng với lượng khách hàng nhìn thấy nhiều nhất"
   ]
  },
  {
   "cell_type": "code",
   "execution_count": 19,
   "metadata": {},
   "outputs": [
    {
     "name": "stdout",
     "output_type": "stream",
     "text": [
      "33    4 hộp sữa lúa mạch Milo 180ml\n",
      "Name: Name, dtype: object \n",
      "\n",
      "4    Bánh trứng Custard\n",
      "Name: Name, dtype: object \n",
      "\n",
      "118    Kem tràng tiền\n",
      "Name: Name, dtype: object \n",
      "\n",
      "7    Snack khoai tây Lays\n",
      "Name: Name, dtype: object \n",
      "\n",
      "32    Lốc 4 hộp sữa tươi ít đường TH true MILK\n",
      "Name: Name, dtype: object \n",
      "\n"
     ]
    }
   ],
   "source": [
    "count_value = df_behavior[\"ID\"].value_counts().reset_index()\n",
    "\n",
    "for i in range(5):\n",
    "    result = df_item_info[df_item_info[\"ID\"] == count_value.iloc[i, 0]][\"Name\"]\n",
    "    print(result, '\\n')"
   ]
  },
  {
   "cell_type": "markdown",
   "metadata": {},
   "source": [
    "Câu 2:  Thống kê 5 mặt hàng có tổng thời gian nhìn và cầm xem lâu nhất"
   ]
  },
  {
   "cell_type": "code",
   "execution_count": 20,
   "metadata": {},
   "outputs": [
    {
     "name": "stdout",
     "output_type": "stream",
     "text": [
      "125    Sữa chua uống Probi\n",
      "Name: Name, dtype: object \n",
      "\n",
      "124    Sữa chua uống Yakult\n",
      "Name: Name, dtype: object \n",
      "\n",
      "33    4 hộp sữa lúa mạch Milo 180ml\n",
      "Name: Name, dtype: object \n",
      "\n",
      "7    Snack khoai tây Lays\n",
      "Name: Name, dtype: object \n",
      "\n",
      "6    Bim bim Oishi\n",
      "Name: Name, dtype: object \n",
      "\n"
     ]
    }
   ],
   "source": [
    "df_behavior[\"Total time\"] = df_behavior[\"Looking at item (s)\"] + df_behavior[\"Holding the item (s)\"]\n",
    "total_time = df_behavior.groupby(\"ID\")[\"Total time\"].sum().reset_index()\n",
    "total_time.sort_values(\"Total time\", ascending=False, inplace=True)\n",
    "\n",
    "for i in range(5):\n",
    "    result = df_item_info[df_item_info[\"ID\"] == total_time.iloc[i, 0]][\"Name\"]\n",
    "    print(result, '\\n')"
   ]
  },
  {
   "cell_type": "markdown",
   "metadata": {},
   "source": [
    "Câu 3: Thống kê 5 mặt hàng được mua nhiều nhất"
   ]
  },
  {
   "cell_type": "code",
   "execution_count": 21,
   "metadata": {},
   "outputs": [
    {
     "name": "stdout",
     "output_type": "stream",
     "text": [
      "32    Lốc 4 hộp sữa tươi ít đường TH true MILK\n",
      "Name: Name, dtype: object \n",
      "\n",
      "4    Bánh trứng Custard\n",
      "Name: Name, dtype: object \n",
      "\n",
      "118    Kem tràng tiền\n",
      "Name: Name, dtype: object \n",
      "\n",
      "38    Sữa bột Milo\n",
      "Name: Name, dtype: object \n",
      "\n",
      "23    Khăn tắm Shine\n",
      "Name: Name, dtype: object \n",
      "\n"
     ]
    }
   ],
   "source": [
    "cond1 = df_behavior[\"Putting item into bag\"] & ~df_behavior[\"Returning item\"]\n",
    "cond2 = df_behavior[\"Putting item into bag in the 2nd time\"]\n",
    "\n",
    "purchasing = df_behavior[cond1 | cond2][[\"ID\"]].value_counts().reset_index()\n",
    "\n",
    "for i in range(5):\n",
    "    result = df_item_info[df_item_info[\"ID\"] == purchasing.iloc[i, 0]][\"Name\"]\n",
    "    print(result, '\\n')"
   ]
  },
  {
   "cell_type": "markdown",
   "metadata": {},
   "source": [
    "Câu 4: Thống kê 5 mặt hàng thường được cầm lên rồi trả lại nhiều nhất\n"
   ]
  },
  {
   "cell_type": "code",
   "execution_count": 22,
   "metadata": {},
   "outputs": [
    {
     "name": "stdout",
     "output_type": "stream",
     "text": [
      "33    4 hộp sữa lúa mạch Milo 180ml\n",
      "Name: Name, dtype: object \n",
      "\n",
      "130    Mý ý SG Food\n",
      "Name: Name, dtype: object \n",
      "\n",
      "1    Bánh Chocopie\n",
      "Name: Name, dtype: object \n",
      "\n",
      "120    Sữa chua Vinamik\n",
      "Name: Name, dtype: object \n",
      "\n",
      "9    Socola trứng Kinder\n",
      "Name: Name, dtype: object \n",
      "\n"
     ]
    }
   ],
   "source": [
    "cond1 = df_behavior[\"Putting item into bag\"] & df_behavior[\"Returning item\"]\n",
    "\n",
    "returning = df_behavior[cond1][\"ID\"].value_counts().reset_index(name=\"count\")\n",
    "\n",
    "for i in range(5):\n",
    "    result = df_item_info[df_item_info[\"ID\"] == returning.iloc[i, 0]][\"Name\"]\n",
    "    print(result, '\\n')"
   ]
  },
  {
   "cell_type": "markdown",
   "metadata": {},
   "source": [
    "Câu 6: Ngày nào trong tuần có doanh thu cao nhất?"
   ]
  },
  {
   "cell_type": "code",
   "execution_count": 23,
   "metadata": {},
   "outputs": [
    {
     "name": "stdout",
     "output_type": "stream",
     "text": [
      "      Day      Price\n",
      "3  Sunday  133049600\n"
     ]
    }
   ],
   "source": [
    "df_item_info['Price'] = df_item_info['Price'].str.replace('₫', '').str.replace(',', '').str.strip()\n",
    "price_map = df_item_info.set_index(\"ID\")[\"Price\"].astype(int).to_dict()\n",
    "df_behavior[\"Price\"] = df_behavior[\"ID\"].map(price_map)\n",
    "\n",
    "cond1 = df_behavior[\"Putting item into bag\"] & ~df_behavior[\"Returning item\"]\n",
    "cond2 = df_behavior[\"Putting item into bag in the 2nd time\"]\n",
    "\n",
    "revenue = df_behavior[cond1 | cond2].groupby([\"Day\"])[\"Price\"].sum().reset_index()\n",
    "revenue.sort_values(\"Price\", ascending=False, inplace=True)\n",
    "\n",
    "print(revenue.head(1))"
   ]
  },
  {
   "cell_type": "markdown",
   "metadata": {},
   "source": [
    "Câu 8: Top 5 các mặt hàng giảm giá được người dùng mua nhiều nhất?\n"
   ]
  },
  {
   "cell_type": "code",
   "execution_count": 24,
   "metadata": {},
   "outputs": [
    {
     "name": "stdout",
     "output_type": "stream",
     "text": [
      "33    4 hộp sữa lúa mạch Milo 180ml\n",
      "Name: Name, dtype: object \n",
      "\n",
      "130    Mý ý SG Food\n",
      "Name: Name, dtype: object \n",
      "\n",
      "1    Bánh Chocopie\n",
      "Name: Name, dtype: object \n",
      "\n",
      "120    Sữa chua Vinamik\n",
      "Name: Name, dtype: object \n",
      "\n",
      "9    Socola trứng Kinder\n",
      "Name: Name, dtype: object \n",
      "\n"
     ]
    }
   ],
   "source": [
    "discount_map = df_item_info.set_index(\"ID\")[\"Discount \"].to_dict()\n",
    "df_behavior[\"Discount\"] = df_behavior[\"ID\"].map(discount_map)\n",
    "\n",
    "cond1 = df_behavior[\"Putting item into bag\"] & ~df_behavior[\"Returning item\"]\n",
    "cond2 = df_behavior[\"Putting item into bag in the 2nd time\"]\n",
    "\n",
    "discount_purchasing = df_behavior[(cond1 | cond2) & df_behavior[\"Discount\"] > 0].groupby([\"ID\"])[\"Discount\"].sum().reset_index()\n",
    "discount_purchasing.sort_values(\"Discount\", ascending=False, inplace=True)\n",
    "\n",
    "for i in range(5):\n",
    "    result = df_item_info[df_item_info[\"ID\"] == returning.iloc[i, 0]][\"Name\"]\n",
    "    print(result, '\\n')"
   ]
  },
  {
   "cell_type": "markdown",
   "metadata": {},
   "source": [
    "Câu 9: Top 3 quầy hàng nào có lượt cầm xem nhiều nhất?"
   ]
  },
  {
   "cell_type": "code",
   "execution_count": 25,
   "metadata": {},
   "outputs": [
    {
     "name": "stdout",
     "output_type": "stream",
     "text": [
      "7    Quầy đông lạnh\n",
      "Name: Description, dtype: object \n",
      "\n",
      "0    Quầy bánh kẹo\n",
      "Name: Description, dtype: object \n",
      "\n",
      "1    Quầy hoá mỹ phẩm\n",
      "Name: Description, dtype: object \n",
      "\n"
     ]
    }
   ],
   "source": [
    "count_value = df_behavior[df_behavior[\"Holding the item (s)\"] > 0][\"Shelf ID\"].value_counts().reset_index()\n",
    "\n",
    "for i in range(3):\n",
    "    result = df_shelf_info[df_shelf_info[\"Shelf ID\"] == count_value.iloc[i, 0]][\"Description\"]\n",
    "    print(result, '\\n')"
   ]
  },
  {
   "cell_type": "markdown",
   "metadata": {},
   "source": [
    "Câu 10: Trong số các sản phẩm được đánh giá cao nhất, top 3 sản phẩm nào được mua nhiều nhất?"
   ]
  },
  {
   "cell_type": "code",
   "execution_count": 27,
   "metadata": {},
   "outputs": [
    {
     "name": "stdout",
     "output_type": "stream",
     "text": [
      "33    4 hộp sữa lúa mạch Milo 180ml\n",
      "Name: Name, dtype: object \n",
      "\n",
      "130    Mý ý SG Food\n",
      "Name: Name, dtype: object \n",
      "\n",
      "1    Bánh Chocopie\n",
      "Name: Name, dtype: object \n",
      "\n"
     ]
    }
   ],
   "source": [
    "rate_map = df_item_info.set_index(\"ID\")[\"Rate\"].to_dict()\n",
    "df_behavior[\"Rate\"] = df_behavior[\"ID\"].map(rate_map)\n",
    "\n",
    "cond1 = df_behavior[\"Putting item into bag\"] & ~df_behavior[\"Returning item\"]\n",
    "cond2 = df_behavior[\"Putting item into bag in the 2nd time\"]\n",
    "\n",
    "max_rate_purchasing = df_behavior[(cond1 | cond2) & df_behavior[\"Rate\"] == 5][\"ID\"].value_counts().reset_index(name=\"count\")\n",
    "\n",
    "for i in range(3):\n",
    "    result = df_item_info[df_item_info[\"ID\"] == returning.iloc[i, 0]][\"Name\"]\n",
    "    print(result, '\\n')"
   ]
  }
 ],
 "metadata": {
  "kernelspec": {
   "display_name": ".venv",
   "language": "python",
   "name": "python3"
  },
  "language_info": {
   "codemirror_mode": {
    "name": "ipython",
    "version": 3
   },
   "file_extension": ".py",
   "mimetype": "text/x-python",
   "name": "python",
   "nbconvert_exporter": "python",
   "pygments_lexer": "ipython3",
   "version": "3.12.4"
  }
 },
 "nbformat": 4,
 "nbformat_minor": 2
}
